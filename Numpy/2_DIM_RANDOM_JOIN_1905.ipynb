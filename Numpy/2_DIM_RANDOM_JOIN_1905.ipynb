{
 "cells": [
  {
   "cell_type": "markdown",
   "id": "30105c12",
   "metadata": {},
   "source": [
    "# CLASE CIENCIA DE DATOS | 19-05 | NUMPY    \n",
    "<hr style=\"border: 0.5px solid black\">"
   ]
  },
  {
   "cell_type": "code",
   "execution_count": 1,
   "id": "d1db9f46",
   "metadata": {},
   "outputs": [],
   "source": [
    "# Tratamiento de datos\n",
    "# ==============================================================================\n",
    "import pandas as pd\n",
    "import numpy as np"
   ]
  },
  {
   "cell_type": "code",
   "execution_count": 9,
   "id": "a411d921",
   "metadata": {},
   "outputs": [
    {
     "name": "stdout",
     "output_type": "stream",
     "text": [
      "[ 2  3  4  5  6  7  8  9 10 11]\n",
      "ndim:  1\n",
      "shape: (10,)\n",
      "size:  10\n"
     ]
    }
   ],
   "source": [
    "a=np.arange(2,12)\n",
    "print(a)\n",
    "\n",
    "print(\"ndim: \", a.ndim)\n",
    "print(\"shape:\", a.shape)\n",
    "print(\"size: \", a.size)"
   ]
  },
  {
   "cell_type": "markdown",
   "id": "585937cc",
   "metadata": {},
   "source": [
    "## TEMAS VARIOS\n",
    "* DATA TYPES\n",
    "* DIMENSIONES\n",
    "* ARANGE\n",
    "* NUMEROS ALEATORIOS - RANDOM\n",
    "* INDEXING\n",
    "* SLICING\n",
    "* JOIN\n",
    "* SORT"
   ]
  },
  {
   "cell_type": "markdown",
   "id": "8bf75cfb",
   "metadata": {},
   "source": [
    "# <span style=\"color:blue\">QUE ES UN ARRAY</span>"
   ]
  },
  {
   "cell_type": "markdown",
   "id": "393ac6ae",
   "metadata": {},
   "source": [
    "* **El array (o ndarray) es la estructura que permite acelerar las operaciones matemáticas en Python, sin\n",
    "la necesidad de recurrir a bucles para operar con todos sus elementos, lo que se llama vectorización.**        \n",
    "\n",
    "\n",
    "* **Es una estructura multidimensional, por lo que permite representar vectores,     \n",
    "matrices o arreglos de más dimensiones.**"
   ]
  },
  {
   "cell_type": "markdown",
   "id": "2f876638",
   "metadata": {},
   "source": [
    "## NUMPY DATATYPES"
   ]
  },
  {
   "cell_type": "markdown",
   "id": "422d54eb",
   "metadata": {},
   "source": [
    "* strings - used to represent text data, the text is given under quote marks. e.g. \"ABCD\"\n",
    "* integer - used to represent integer numbers. e.g. -1, -2, -3\n",
    "* float - used to represent real numbers. e.g. 1.2, 42.42\n",
    "* boolean - used to represent True or False.\n",
    "* complex - used to represent complex numbers. e.g. 1.0 + 2.0j, 1.5 + 2.5j"
   ]
  },
  {
   "cell_type": "markdown",
   "id": "df235dcf",
   "metadata": {},
   "source": [
    "## CREAR ARRAY - DIMENSIONES"
   ]
  },
  {
   "cell_type": "code",
   "execution_count": 65,
   "id": "38b3c3e8",
   "metadata": {},
   "outputs": [
    {
     "data": {
      "text/plain": [
       "0"
      ]
     },
     "execution_count": 65,
     "metadata": {},
     "output_type": "execute_result"
    }
   ],
   "source": [
    "#arreglo 0 d\n",
    "arr0=np.array((10))\n",
    "arr0.ndim"
   ]
  },
  {
   "cell_type": "code",
   "execution_count": 66,
   "id": "3a656d8c",
   "metadata": {},
   "outputs": [
    {
     "name": "stdout",
     "output_type": "stream",
     "text": [
      "Cantidad de filas y columnas: (5,). Dimensión: 1. Cantidad de elementos: 5. Tipo de datos: int32\n"
     ]
    }
   ],
   "source": [
    "#crear un array de 1 dimensión\n",
    "arr1=np.array([1,2,3,4,5])\n",
    "\n",
    "shape=arr1.shape #me devuelve filas/columnas\n",
    "ndim=arr1.ndim  #me devuelve la dimension\n",
    "size=arr1.size\n",
    "dtype=arr1.dtype\n",
    "print(f\"Cantidad de filas y columnas: {shape}. Dimensión: {ndim}. Cantidad de elementos: {size}. Tipo de datos: {dtype}\")"
   ]
  },
  {
   "cell_type": "code",
   "execution_count": 4,
   "id": "e78acbdb",
   "metadata": {},
   "outputs": [
    {
     "data": {
      "text/plain": [
       "array([1, 2, 3, 4, 5, 6, 7])"
      ]
     },
     "execution_count": 4,
     "metadata": {},
     "output_type": "execute_result"
    }
   ],
   "source": [
    "#crear un array de 1 lista \n",
    "lista=[1,2,3,4,5,6,7]\n",
    "arr2=np.array(lista)\n",
    "arr2"
   ]
  },
  {
   "cell_type": "code",
   "execution_count": 5,
   "id": "19604197",
   "metadata": {},
   "outputs": [
    {
     "name": "stdout",
     "output_type": "stream",
     "text": [
      "Cantidad de filas y col (2, 3) Dimensión: 2  Cantidad de elementos:  6 Tipo de datos:  int32\n"
     ]
    }
   ],
   "source": [
    "#crear un array de 2 dim\n",
    "arr3=np.array([[1,2,3],[4,5,6]])\n",
    "arr3.ndim\n",
    "print(\"Cantidad de filas y col\",arr3.shape,\"Dimensión:\",arr3.ndim,\" Cantidad de elementos: \",arr3.size,\"Tipo de datos: \",arr3.dtype)"
   ]
  },
  {
   "cell_type": "code",
   "execution_count": 6,
   "id": "929c754f",
   "metadata": {},
   "outputs": [
    {
     "name": "stdout",
     "output_type": "stream",
     "text": [
      "[[1 2 3]\n",
      " [4 5 6]]\n"
     ]
    }
   ],
   "source": [
    "#crear arreglo de dos dimensiones\n",
    "matrix=np.array([[1,2,3],[4,5,6]])\n",
    "print(matrix)"
   ]
  },
  {
   "cell_type": "code",
   "execution_count": 7,
   "id": "7661e05c",
   "metadata": {},
   "outputs": [
    {
     "name": "stdout",
     "output_type": "stream",
     "text": [
      "[[[1 2 3]\n",
      "  [4 5 6]]\n",
      "\n",
      " [[1 2 3]\n",
      "  [4 5 6]]]\n"
     ]
    }
   ],
   "source": [
    "arreglo3=np.array([matrix, matrix])\n",
    "print(arreglo3)"
   ]
  },
  {
   "cell_type": "code",
   "execution_count": 8,
   "id": "37627e68",
   "metadata": {
    "scrolled": true
   },
   "outputs": [
    {
     "data": {
      "text/plain": [
       "3"
      ]
     },
     "execution_count": 8,
     "metadata": {},
     "output_type": "execute_result"
    }
   ],
   "source": [
    "mat3d=np.array([[[2,4,6],[4,8,12]],[[2,4,6],[4,8,12]]])\n",
    "mat3d.ndim"
   ]
  },
  {
   "cell_type": "code",
   "execution_count": 9,
   "id": "fcd5faaa",
   "metadata": {},
   "outputs": [
    {
     "name": "stdout",
     "output_type": "stream",
     "text": [
      "[[[1 2 3 4]]]\n",
      "number of dimensions : 3\n"
     ]
    }
   ],
   "source": [
    "#argumento para la dimension\n",
    "arr = np.array([1, 2, 3, 4], ndmin=3)\n",
    "\n",
    "print(arr)\n",
    "print('number of dimensions :', arr.ndim)"
   ]
  },
  {
   "cell_type": "markdown",
   "id": "79232d1c",
   "metadata": {},
   "source": [
    "## **RANGO DE VALORES - ARANGE**"
   ]
  },
  {
   "cell_type": "code",
   "execution_count": 10,
   "id": "69538a98",
   "metadata": {},
   "outputs": [
    {
     "data": {
      "text/plain": [
       "array([ 1,  3,  5,  7,  9, 11, 13, 15])"
      ]
     },
     "execution_count": 10,
     "metadata": {},
     "output_type": "execute_result"
    }
   ],
   "source": [
    "a=np.arange(1,16,2)\n",
    "a\n",
    "#si agrego 3er paso le indico cada cuanto aumenta"
   ]
  },
  {
   "cell_type": "code",
   "execution_count": 4,
   "id": "c93f812a",
   "metadata": {
    "scrolled": true
   },
   "outputs": [
    {
     "name": "stdout",
     "output_type": "stream",
     "text": [
      "[ 1  2  3  4  5  6  7  8  9 10]\n"
     ]
    }
   ],
   "source": [
    "zz=np.arange(1,11)\n",
    "print(zz)"
   ]
  },
  {
   "cell_type": "code",
   "execution_count": 11,
   "id": "3514b8fa",
   "metadata": {},
   "outputs": [
    {
     "data": {
      "text/plain": [
       "array([ 0, 25, 50, 75])"
      ]
     },
     "execution_count": 11,
     "metadata": {},
     "output_type": "execute_result"
    }
   ],
   "source": [
    "b=np.arange(0,100,25)\n",
    "b"
   ]
  },
  {
   "cell_type": "markdown",
   "id": "8d7cfbe5",
   "metadata": {},
   "source": [
    "# <span style=\"color:blue\">RANDOM - Numeros aleatorios con NumPy</span>"
   ]
  },
  {
   "cell_type": "markdown",
   "id": "0699fe07",
   "metadata": {},
   "source": [
    "## RANDINT - ENTEROS"
   ]
  },
  {
   "cell_type": "code",
   "execution_count": 12,
   "id": "a0386003",
   "metadata": {},
   "outputs": [
    {
     "name": "stdout",
     "output_type": "stream",
     "text": [
      "[83 22 18 31 56 39 21  3 84 17 66  7 51 22 14 41 15 80 26 15 87 64 79 23\n",
      " 59]\n"
     ]
    }
   ],
   "source": [
    "# generar arreglo con nros enteros valor inicial,valor final, tamaño\n",
    "x = np.random.randint(0,100,size=25)\n",
    "print(x)\n"
   ]
  },
  {
   "cell_type": "markdown",
   "id": "829f3202",
   "metadata": {},
   "source": [
    "## RAND - ENTRE 0 Y 1 FLOAT"
   ]
  },
  {
   "cell_type": "code",
   "execution_count": 13,
   "id": "c40e3efd",
   "metadata": {
    "scrolled": true
   },
   "outputs": [
    {
     "name": "stdout",
     "output_type": "stream",
     "text": [
      "[0.66969382 0.13386712 0.05157755 0.19916768 0.93853692 0.41592704\n",
      " 0.50140864 0.05542528 0.87291059 0.32867217]\n"
     ]
    }
   ],
   "source": [
    "#nros aleatorios entre 0 y 1\n",
    "b=np.random.rand(10)\n",
    "print(b)"
   ]
  },
  {
   "cell_type": "code",
   "execution_count": 14,
   "id": "b2267fc6",
   "metadata": {},
   "outputs": [
    {
     "name": "stdout",
     "output_type": "stream",
     "text": [
      "Cantidad de filas y col (2, 2, 3) Dimensión: 3  Cantidad de elementos:  12 Tipo de datos:  int32\n"
     ]
    }
   ],
   "source": [
    "arr4=np.array([arr3, arr3])\n",
    "print(\"Cantidad de filas y col\",arr4.shape,\"Dimensión:\",arr4.ndim,\" Cantidad de elementos: \",arr4.size,\"Tipo de datos: \",arr4.dtype)"
   ]
  },
  {
   "cell_type": "markdown",
   "id": "0bc66dc1",
   "metadata": {},
   "source": [
    "## LINSPACE - UNIFORMEMENTE ESPACIADOS"
   ]
  },
  {
   "cell_type": "code",
   "execution_count": 5,
   "id": "1afc8303",
   "metadata": {},
   "outputs": [
    {
     "data": {
      "text/plain": [
       "array([15.        , 15.83333333, 16.66666667, 17.5       , 18.33333333,\n",
       "       19.16666667, 20.        ])"
      ]
     },
     "execution_count": 5,
     "metadata": {},
     "output_type": "execute_result"
    }
   ],
   "source": [
    "#Crear un arreglo con valores uniformemente espaciado\n",
    "#numpy.linspace(start, stop, num=50, endpoint=True, retstep=False, dtype=None, axis=0)\n",
    "\n",
    "arreglo=np.linspace(15, 20, 7)\n",
    "arreglo"
   ]
  },
  {
   "cell_type": "markdown",
   "id": "afb67600",
   "metadata": {},
   "source": [
    "## FULL - ARREGLO CON MISMO NUM"
   ]
  },
  {
   "cell_type": "code",
   "execution_count": 3,
   "id": "871d32d4",
   "metadata": {},
   "outputs": [
    {
     "name": "stdout",
     "output_type": "stream",
     "text": [
      "[[6 6 6]\n",
      " [6 6 6]\n",
      " [6 6 6]]\n"
     ]
    }
   ],
   "source": [
    "#creando un arreglo con un mismo numero\n",
    "#numpy.full(shape, fill_value, dtype=None, order='C', *, like=None)\n",
    "arreglo=np.full((3,3),6)\n",
    "print(arreglo)"
   ]
  },
  {
   "cell_type": "code",
   "execution_count": 17,
   "id": "d050e832",
   "metadata": {
    "scrolled": true
   },
   "outputs": [
    {
     "name": "stdout",
     "output_type": "stream",
     "text": [
      "[15.         15.83333333 16.66666667 17.5        18.33333333 19.16666667\n",
      " 20.        ]\n"
     ]
    }
   ],
   "source": [
    "arreglo=np.linspace(15, 20, 7)\n",
    "print(arreglo)"
   ]
  },
  {
   "cell_type": "markdown",
   "id": "1df5aa9a",
   "metadata": {},
   "source": [
    "## ZEROS - ARREGLO CON CEROS"
   ]
  },
  {
   "cell_type": "code",
   "execution_count": 18,
   "id": "a49d627f",
   "metadata": {},
   "outputs": [
    {
     "name": "stdout",
     "output_type": "stream",
     "text": [
      "[[0. 0. 0. 0. 0.]\n",
      " [0. 0. 0. 0. 0.]\n",
      " [0. 0. 0. 0. 0.]]\n"
     ]
    }
   ],
   "source": [
    "# creando un arreglo con 0\n",
    "arreglo=np.zeros((3,5))\n",
    "print(arreglo)"
   ]
  },
  {
   "cell_type": "markdown",
   "id": "1f3c302b",
   "metadata": {},
   "source": [
    "## UNIFORM - PERMITE INDICAR EL RANGO"
   ]
  },
  {
   "cell_type": "code",
   "execution_count": 19,
   "id": "bf42dd55",
   "metadata": {
    "scrolled": true
   },
   "outputs": [
    {
     "data": {
      "text/plain": [
       "array([1.94104763, 1.76572354, 1.80446399, 1.8320874 , 1.70734663,\n",
       "       1.84619991, 1.63747947, 1.78471249, 1.99486215, 1.726998  ,\n",
       "       1.71205764, 1.77364654, 1.70509582, 1.89914899, 1.89959019,\n",
       "       1.99301846, 1.67367461, 1.77434737, 1.78497231, 1.51004979,\n",
       "       1.63125443, 1.6262942 , 1.85753703, 1.66403209, 1.96073479,\n",
       "       1.8647908 , 1.84163293, 1.99612988, 1.58769396, 1.64617136,\n",
       "       1.50795036, 1.69191685, 1.65624663, 1.88524562, 1.94465995,\n",
       "       1.83841993, 1.73646067, 1.71470175, 1.61366327, 1.6270595 ,\n",
       "       1.82025247, 1.53130505, 1.63686083, 1.63007001, 1.51668323,\n",
       "       1.9218063 , 1.53299002, 1.9569441 , 1.79586105, 1.96958207])"
      ]
     },
     "execution_count": 19,
     "metadata": {},
     "output_type": "execute_result"
    }
   ],
   "source": [
    "#uniform permite indicar el rango, a diferencia de rand q solo va de 0 a 1\n",
    "np.random.uniform(1.5, 2.0, size=50)"
   ]
  },
  {
   "cell_type": "code",
   "execution_count": 20,
   "id": "104ee5df",
   "metadata": {},
   "outputs": [
    {
     "name": "stdout",
     "output_type": "stream",
     "text": [
      "[[0.39662716 0.18554511 0.92126084 0.77972009 0.19364159]\n",
      " [0.06617466 0.43609083 0.83218624 0.12419027 0.49760563]\n",
      " [0.13685252 0.99899294 0.16125874 0.64260169 0.80373148]]\n"
     ]
    }
   ],
   "source": [
    "x = np.random.rand(3, 5)\n",
    "\n",
    "print(x)\n"
   ]
  },
  {
   "cell_type": "markdown",
   "id": "0b12b6a8",
   "metadata": {},
   "source": [
    "## CHOICE - QUE VALORES PUEDE CONTENER"
   ]
  },
  {
   "cell_type": "code",
   "execution_count": 21,
   "id": "c12da0e6",
   "metadata": {},
   "outputs": [
    {
     "data": {
      "text/plain": [
       "array([[1, 5, 2, 1],\n",
       "       [1, 2, 1, 3],\n",
       "       [4, 3, 1, 2]])"
      ]
     },
     "execution_count": 21,
     "metadata": {},
     "output_type": "execute_result"
    }
   ],
   "source": [
    "#selecciona al azar de una lista que le doy\n",
    "arrejemplo=np.array([1,2,3,4,5])\n",
    "random_elements=np.random.choice(arrejemplo,size=(3,4))\n",
    "random_elements"
   ]
  },
  {
   "cell_type": "markdown",
   "id": "cde3f6de",
   "metadata": {},
   "source": [
    "## EJERCICIO 02-06 | CHOICE"
   ]
  },
  {
   "cell_type": "code",
   "execution_count": 22,
   "id": "a3a4bc8f",
   "metadata": {},
   "outputs": [
    {
     "name": "stdout",
     "output_type": "stream",
     "text": [
      "[[23  7  3  5 29  3 13]\n",
      " [17 29 29 19  5 17 13]\n",
      " [13 19 29 29 19 13  3]\n",
      " [13  2 23 13 29  7 23]] \n",
      "Tamaño:  (4, 7)\n"
     ]
    }
   ],
   "source": [
    "#Ejercicio crear una arreglo con los primeros 11 nros primos, \n",
    "#y luego usarlo como insumo para generar una matriz de 4 filas y 7 columnas\n",
    "\n",
    "numeros_primos=np.array([2, 3, 5, 7, 11, 13, 17, 19, 23, 29, 31])\n",
    "\n",
    "random_choice=np.random.choice(numeros_primos,size=(4,7))\n",
    "\n",
    "print(random_choice,\"\\nTamaño: \",random_choice.shape)"
   ]
  },
  {
   "cell_type": "code",
   "execution_count": 23,
   "id": "ee6290a2",
   "metadata": {},
   "outputs": [
    {
     "data": {
      "text/plain": [
       "array([['a', 'b', 'e', 'c'],\n",
       "       ['d', 'b', 'b', 'd'],\n",
       "       ['b', 'e', 'a', 'd']], dtype='<U1')"
      ]
     },
     "execution_count": 23,
     "metadata": {},
     "output_type": "execute_result"
    }
   ],
   "source": [
    "arrejemplo2=np.array([\"a\",\"b\",\"c\",\"d\",\"e\"])\n",
    "random_elements2=np.random.choice(arrejemplo2,size=(3,4))\n",
    "random_elements2"
   ]
  },
  {
   "cell_type": "code",
   "execution_count": 24,
   "id": "cabff83e",
   "metadata": {},
   "outputs": [
    {
     "name": "stdout",
     "output_type": "stream",
     "text": [
      "[[9 9 5 7 3]\n",
      " [7 7 9 3 7]\n",
      " [3 7 5 3 7]]\n"
     ]
    }
   ],
   "source": [
    "x = np.random.choice([3, 5, 7, 9], size=(3, 5))\n",
    "\n",
    "print(x)"
   ]
  },
  {
   "cell_type": "code",
   "execution_count": 25,
   "id": "55ce591c",
   "metadata": {},
   "outputs": [
    {
     "name": "stdout",
     "output_type": "stream",
     "text": [
      "3\n"
     ]
    }
   ],
   "source": [
    "x = np.random.choice([3, 5, 7, 9])\n",
    "\n",
    "print(x)"
   ]
  },
  {
   "cell_type": "markdown",
   "id": "e67676a1",
   "metadata": {},
   "source": [
    "## INDEXING"
   ]
  },
  {
   "cell_type": "code",
   "execution_count": 26,
   "id": "c40dc295",
   "metadata": {},
   "outputs": [
    {
     "data": {
      "text/plain": [
       "array([[4, 5, 6],\n",
       "       [7, 8, 9]])"
      ]
     },
     "execution_count": 26,
     "metadata": {},
     "output_type": "execute_result"
    }
   ],
   "source": [
    "mat2d=np.array([[4,5,6],[7,8,9]])\n",
    "mat2d"
   ]
  },
  {
   "cell_type": "code",
   "execution_count": 27,
   "id": "8d66e2f2",
   "metadata": {},
   "outputs": [
    {
     "data": {
      "text/plain": [
       "7"
      ]
     },
     "execution_count": 27,
     "metadata": {},
     "output_type": "execute_result"
    }
   ],
   "source": [
    "#acceder a uh elemento por fila y col\n",
    "mat2d[1,0]"
   ]
  },
  {
   "cell_type": "code",
   "execution_count": 28,
   "id": "678f8572",
   "metadata": {
    "scrolled": true
   },
   "outputs": [
    {
     "data": {
      "text/plain": [
       "array([[ 1,  2,  3,  4,  5],\n",
       "       [ 6,  7,  8,  9, 10],\n",
       "       [11, 12, 13, 14, 15]])"
      ]
     },
     "execution_count": 28,
     "metadata": {},
     "output_type": "execute_result"
    }
   ],
   "source": [
    "array=np.arange(1,16).reshape(3,5)\n",
    "array"
   ]
  },
  {
   "cell_type": "code",
   "execution_count": 29,
   "id": "72512bff",
   "metadata": {},
   "outputs": [
    {
     "data": {
      "text/plain": [
       "array([[ 1,  2],\n",
       "       [ 6,  7],\n",
       "       [11, 12]])"
      ]
     },
     "execution_count": 29,
     "metadata": {},
     "output_type": "execute_result"
    }
   ],
   "source": [
    "array[:,:2]\n",
    "#filtro todas la filas y columnas de la cero a la 1"
   ]
  },
  {
   "cell_type": "code",
   "execution_count": 30,
   "id": "994ef66b",
   "metadata": {},
   "outputs": [
    {
     "data": {
      "text/plain": [
       "array([11, 12, 13, 14, 15])"
      ]
     },
     "execution_count": 30,
     "metadata": {},
     "output_type": "execute_result"
    }
   ],
   "source": [
    "array[2,:]\n",
    "#filtro ultima fila completa"
   ]
  },
  {
   "cell_type": "markdown",
   "id": "8107bde4",
   "metadata": {},
   "source": [
    "#  <span style=\"color:blue\">NUMPY SLICING</span> "
   ]
  },
  {
   "cell_type": "markdown",
   "id": "5473fc5e",
   "metadata": {},
   "source": [
    "* Slicing in python means taking elements from one given index to another given index.\n",
    "\n",
    "* We pass slice instead of index like this: [start:end].    \n",
    "\n",
    "* We can also define the step, like this:[start:end:step] "
   ]
  },
  {
   "cell_type": "code",
   "execution_count": 31,
   "id": "b3c51891",
   "metadata": {},
   "outputs": [
    {
     "data": {
      "text/plain": [
       "array([96, 27,  1])"
      ]
     },
     "execution_count": 31,
     "metadata": {},
     "output_type": "execute_result"
    }
   ],
   "source": [
    "import numpy as np\n",
    "z=np.random.randint(0,100,size=20)\n",
    "z[0:5:2]"
   ]
  },
  {
   "cell_type": "code",
   "execution_count": 32,
   "id": "ab392138",
   "metadata": {},
   "outputs": [
    {
     "data": {
      "text/plain": [
       "array([96, 25, 27, 21,  1, 89, 17, 33,  4, 75, 39,  0, 25, 68, 25,  9, 54,\n",
       "       27,  0, 59])"
      ]
     },
     "execution_count": 32,
     "metadata": {},
     "output_type": "execute_result"
    }
   ],
   "source": [
    "z"
   ]
  },
  {
   "cell_type": "code",
   "execution_count": 33,
   "id": "5a57cab1",
   "metadata": {},
   "outputs": [
    {
     "data": {
      "text/plain": [
       "array([27,  0, 59])"
      ]
     },
     "execution_count": 33,
     "metadata": {},
     "output_type": "execute_result"
    }
   ],
   "source": [
    "#slice negativo\n",
    "z[-3:]"
   ]
  },
  {
   "cell_type": "code",
   "execution_count": 34,
   "id": "8cf6ac98",
   "metadata": {},
   "outputs": [
    {
     "data": {
      "text/plain": [
       "array([1, 3])"
      ]
     },
     "execution_count": 34,
     "metadata": {},
     "output_type": "execute_result"
    }
   ],
   "source": [
    "arr1[0:4:2]"
   ]
  },
  {
   "cell_type": "code",
   "execution_count": 35,
   "id": "f275a3f8",
   "metadata": {},
   "outputs": [
    {
     "data": {
      "text/plain": [
       "array([1, 2, 3])"
      ]
     },
     "execution_count": 35,
     "metadata": {},
     "output_type": "execute_result"
    }
   ],
   "source": [
    "are= np.arange(1,10).reshape(3,3)\n",
    "are[0,0:3]\n"
   ]
  },
  {
   "cell_type": "code",
   "execution_count": 36,
   "id": "c5296b28",
   "metadata": {},
   "outputs": [
    {
     "data": {
      "text/plain": [
       "array([[1, 2, 3],\n",
       "       [4, 5, 6],\n",
       "       [7, 8, 9]])"
      ]
     },
     "execution_count": 36,
     "metadata": {},
     "output_type": "execute_result"
    }
   ],
   "source": [
    "are"
   ]
  },
  {
   "cell_type": "code",
   "execution_count": 37,
   "id": "3b95c52e",
   "metadata": {},
   "outputs": [
    {
     "name": "stdout",
     "output_type": "stream",
     "text": [
      "[7 8 9]\n"
     ]
    }
   ],
   "source": [
    "#slice en mat 2d\n",
    "arrz= np.array([[1, 2, 3, 4, 5], [6, 7, 8, 9, 10]])\n",
    "\n",
    "print(arrz[1, 1:4])"
   ]
  },
  {
   "cell_type": "code",
   "execution_count": 38,
   "id": "395565d1",
   "metadata": {
    "scrolled": true
   },
   "outputs": [
    {
     "name": "stdout",
     "output_type": "stream",
     "text": [
      "[2 7]\n"
     ]
    }
   ],
   "source": [
    "#slice en mat 2d, elegimos de ambos elementos, el indice 1 de cada uno\n",
    "print(arrz[0:2, 1])"
   ]
  },
  {
   "cell_type": "code",
   "execution_count": 39,
   "id": "44f0b7e2",
   "metadata": {},
   "outputs": [
    {
     "name": "stdout",
     "output_type": "stream",
     "text": [
      "[[2 3 4]\n",
      " [7 8 9]]\n"
     ]
    }
   ],
   "source": [
    "#slice en mat 2d, elegimos de ambos elementos, indices de 0 a 4 no incluido de cada uno\n",
    "print(arrz[0:2, 1:4])"
   ]
  },
  {
   "cell_type": "code",
   "execution_count": 40,
   "id": "e36f9d10",
   "metadata": {},
   "outputs": [
    {
     "name": "stdout",
     "output_type": "stream",
     "text": [
      "[0 2 4 6 8]\n"
     ]
    }
   ],
   "source": [
    "# Creamos un array de 10 elementos del 0 al 9\n",
    "ar= np.arange(10)\n",
    "\n",
    "# Seleccionamos elementos con un paso de 2\n",
    "resultado = ar[::2]\n",
    "\n",
    "print(resultado)  # Salida: [0 2 4 6 8]"
   ]
  },
  {
   "cell_type": "markdown",
   "id": "e46a53c8",
   "metadata": {},
   "source": [
    "## **FILTRAR CON CONDICIONES**"
   ]
  },
  {
   "cell_type": "code",
   "execution_count": 41,
   "id": "e33e9115",
   "metadata": {
    "scrolled": true
   },
   "outputs": [
    {
     "data": {
      "text/plain": [
       "array([11, 13, 15])"
      ]
     },
     "execution_count": 41,
     "metadata": {},
     "output_type": "execute_result"
    }
   ],
   "source": [
    "a[a>10]"
   ]
  },
  {
   "cell_type": "code",
   "execution_count": 42,
   "id": "31dc54cc",
   "metadata": {},
   "outputs": [
    {
     "data": {
      "text/plain": [
       "array([ 3,  5,  7,  9, 11, 13, 15])"
      ]
     },
     "execution_count": 42,
     "metadata": {},
     "output_type": "execute_result"
    }
   ],
   "source": [
    "a[a>1]"
   ]
  },
  {
   "cell_type": "markdown",
   "id": "a7a5a969",
   "metadata": {},
   "source": [
    "## OPERACIONES"
   ]
  },
  {
   "cell_type": "code",
   "execution_count": 43,
   "id": "ed8a7d03",
   "metadata": {},
   "outputs": [
    {
     "name": "stdout",
     "output_type": "stream",
     "text": [
      "[  1   8  27  64 125]\n"
     ]
    }
   ],
   "source": [
    "a=np.array([1,2,3,4,5])\n",
    "\n",
    "b=a**3\n",
    "\n",
    "print(b)"
   ]
  },
  {
   "cell_type": "code",
   "execution_count": 44,
   "id": "6a50a80e",
   "metadata": {},
   "outputs": [
    {
     "name": "stdout",
     "output_type": "stream",
     "text": [
      "[ 7  9 11 13 15]\n"
     ]
    }
   ],
   "source": [
    "#podemos operar vectorialmente, siempre que sean de las mismos tamaños\n",
    "c=np.array([6,7,8,9,10])\n",
    "\n",
    "d=a+c\n",
    "\n",
    "print(d)"
   ]
  },
  {
   "cell_type": "markdown",
   "id": "ba9e6cc3",
   "metadata": {},
   "source": [
    "## EJERCICIO. Crear un matrix de 4 filas y 5 columnas , con el mismo valor 5."
   ]
  },
  {
   "cell_type": "code",
   "execution_count": 45,
   "id": "e64c5ac6",
   "metadata": {},
   "outputs": [
    {
     "data": {
      "text/plain": [
       "array([[5, 5, 5, 5, 5],\n",
       "       [5, 5, 5, 5, 5],\n",
       "       [5, 5, 5, 5, 5],\n",
       "       [5, 5, 5, 5, 5]])"
      ]
     },
     "execution_count": 45,
     "metadata": {},
     "output_type": "execute_result"
    }
   ],
   "source": [
    "arreglo45=np.full(20,5).reshape(4,5)\n",
    "arreglo45"
   ]
  },
  {
   "cell_type": "markdown",
   "id": "86627598",
   "metadata": {},
   "source": [
    "## EJERCICIO. ARREGLO MATRIZ 5 fila y 3 col , valores aleatorios entre 5 y 6"
   ]
  },
  {
   "cell_type": "code",
   "execution_count": 46,
   "id": "32c8cefd",
   "metadata": {},
   "outputs": [
    {
     "data": {
      "text/plain": [
       "array([[5, 6, 5],\n",
       "       [5, 6, 5],\n",
       "       [5, 6, 5],\n",
       "       [5, 5, 5],\n",
       "       [5, 5, 6]])"
      ]
     },
     "execution_count": 46,
     "metadata": {},
     "output_type": "execute_result"
    }
   ],
   "source": [
    "ejercicio= np.random.randint(5,7,size=(5,3))\n",
    "ejercicio\n"
   ]
  },
  {
   "cell_type": "code",
   "execution_count": 47,
   "id": "7b11105d",
   "metadata": {
    "scrolled": false
   },
   "outputs": [
    {
     "data": {
      "text/plain": [
       "array([[0.5174388 , 0.46781146, 0.07488056, 0.65776631, 0.31076056,\n",
       "        0.66984574],\n",
       "       [0.97485643, 0.47672448, 0.87377916, 0.73018016, 0.61422522,\n",
       "        0.93767711],\n",
       "       [0.56010666, 0.06346555, 0.07346163, 0.80329795, 0.55052963,\n",
       "        0.37344715],\n",
       "       [0.54477486, 0.87096709, 0.67867622, 0.03057684, 0.95484335,\n",
       "        0.37424886],\n",
       "       [0.1704073 , 0.97426829, 0.11153942, 0.34334659, 0.02016762,\n",
       "        0.69104067]])"
      ]
     },
     "execution_count": 47,
     "metadata": {},
     "output_type": "execute_result"
    }
   ],
   "source": [
    "np.random.rand(5,6)"
   ]
  },
  {
   "cell_type": "markdown",
   "id": "5cd3de44",
   "metadata": {},
   "source": [
    "## EJERCICIO:     \n",
    "**Crear un arreglo denominado altura de tamaño 50. Debe de generar aleatoriamente las alturas entre 1.5m y 2m.\n",
    "Crear un arreglo denominado peso de tamaño 50. Debe de generar aleatoriamente los pesos entre 50kg y 100kg.\n",
    "Calcular el índice de masa corporal en un tercer arreglo.**"
   ]
  },
  {
   "cell_type": "code",
   "execution_count": 48,
   "id": "c7cb4fdb",
   "metadata": {},
   "outputs": [
    {
     "data": {
      "text/plain": [
       "array([26.86238436, 19.65928715, 24.54722521, 29.97519448, 25.43841958,\n",
       "       16.76140566, 19.04577135, 29.40804855, 37.6456131 , 24.3542559 ,\n",
       "       28.66510598, 25.06805254, 13.8389622 , 18.67395546, 29.81710867,\n",
       "       30.73291585, 20.64376342, 27.1105808 , 14.5997875 , 16.10644175,\n",
       "       23.84059729, 20.73990142, 25.91417566, 27.97512717, 27.82151961,\n",
       "       29.19625804, 22.18269096, 29.87663966, 27.73808231, 25.13823522,\n",
       "       24.99833214, 27.5922204 , 26.41014571, 26.51295968, 29.84088555,\n",
       "       23.99709487, 19.95226134, 15.89075248, 41.09518609, 27.37611556,\n",
       "       30.2513357 , 23.10370444, 22.65445175, 23.72429981, 34.17005368,\n",
       "       21.45855904, 35.42131371, 30.54360694, 21.27685408, 25.40262714])"
      ]
     },
     "execution_count": 48,
     "metadata": {},
     "output_type": "execute_result"
    }
   ],
   "source": [
    "altura = np.random.uniform(1.5, 2.0, size=50)\n",
    "\n",
    "peso = np.random.uniform(50, 100, size=50)\n",
    "\n",
    "imc = peso / (altura**2) \n",
    "imc"
   ]
  },
  {
   "cell_type": "markdown",
   "id": "6ccc4e4e",
   "metadata": {},
   "source": [
    "## Ejercicio matriz de 3 filas y 5 columnas num de 1 al 15"
   ]
  },
  {
   "cell_type": "code",
   "execution_count": 49,
   "id": "a04c97b3",
   "metadata": {},
   "outputs": [],
   "source": [
    "arr5=np.arange(1,16)\n",
    "arr6=arr5.reshape(3,5)\n",
    "#arr5=np.arange(1,16).reshape(3,5)"
   ]
  },
  {
   "cell_type": "code",
   "execution_count": 50,
   "id": "b873e5b4",
   "metadata": {},
   "outputs": [
    {
     "name": "stdout",
     "output_type": "stream",
     "text": [
      "[55  2  3]\n",
      "[55  2  3]\n"
     ]
    }
   ],
   "source": [
    "z=np.array([1,2,3])\n",
    "x=z\n",
    "z[0]=55\n",
    "print(x)\n",
    "print(z)"
   ]
  },
  {
   "cell_type": "markdown",
   "id": "477f9e2e",
   "metadata": {},
   "source": [
    "#  <span style=\"color:blue\">NUMPY ITERAR ARRAYS</span> "
   ]
  },
  {
   "cell_type": "code",
   "execution_count": 51,
   "id": "700abb7b",
   "metadata": {},
   "outputs": [
    {
     "name": "stdout",
     "output_type": "stream",
     "text": [
      "1\n",
      "2\n",
      "3\n",
      "4\n",
      "5\n",
      "6\n",
      "7\n",
      "8\n",
      "9\n",
      "10\n",
      "11\n",
      "12\n"
     ]
    }
   ],
   "source": [
    "#ARRAY 3D\n",
    "ar2d = np.array([[1, 2, 3], [4, 5, 6], [7, 8, 9], [10, 11, 12]])\n",
    "\n",
    "for x in ar2d:\n",
    "    for y in x:\n",
    "        print(y)"
   ]
  },
  {
   "cell_type": "code",
   "execution_count": 52,
   "id": "2b4f821e",
   "metadata": {},
   "outputs": [
    {
     "name": "stdout",
     "output_type": "stream",
     "text": [
      "1\n",
      "2\n",
      "3\n",
      "4\n",
      "5\n",
      "6\n",
      "7\n",
      "8\n",
      "9\n",
      "10\n",
      "11\n",
      "12\n"
     ]
    }
   ],
   "source": [
    "#ARRAY 3D\n",
    "ar = np.array([[[1, 2, 3], [4, 5, 6]], [[7, 8, 9], [10, 11, 12]]])\n",
    "\n",
    "for x in ar:\n",
    "    for y in x:\n",
    "        for z in y:\n",
    "            print(z)"
   ]
  },
  {
   "cell_type": "markdown",
   "id": "9bdb62e4",
   "metadata": {},
   "source": [
    "**La función nditer() es una función de ayuda que se puede usar desde iteraciones muy básicas hasta muy avanzadas. Resuelve algunos problemas básicos que enfrentamos en la iteración, analicémoslo con ejemplos.**"
   ]
  },
  {
   "cell_type": "code",
   "execution_count": 53,
   "id": "bdc40642",
   "metadata": {},
   "outputs": [
    {
     "name": "stdout",
     "output_type": "stream",
     "text": [
      "1\n",
      "2\n",
      "3\n",
      "4\n",
      "5\n",
      "6\n",
      "7\n",
      "8\n"
     ]
    }
   ],
   "source": [
    "#NDITER\n",
    "arr55 = np.array([[[1, 2], [3, 4]], [[5, 6], [7, 8]]])\n",
    "\n",
    "for x in np.nditer(arr55):\n",
    "  print(x)"
   ]
  },
  {
   "cell_type": "markdown",
   "id": "c940adcf",
   "metadata": {},
   "source": [
    "**NDENUMERATE: Enumeración significa mencionar el número de secuencia de algo uno por uno.\n",
    "A veces requerimos el índice correspondiente del elemento durante la iteración, el método ndenumerate() se puede usar para esos casos de uso.**"
   ]
  },
  {
   "cell_type": "code",
   "execution_count": 54,
   "id": "7e45cde2",
   "metadata": {
    "scrolled": true
   },
   "outputs": [
    {
     "name": "stdout",
     "output_type": "stream",
     "text": [
      "(0, 0) 1\n",
      "(0, 1) 2\n",
      "(0, 2) 3\n",
      "(0, 3) 4\n",
      "(1, 0) 5\n",
      "(1, 1) 6\n",
      "(1, 2) 7\n",
      "(1, 3) 8\n"
     ]
    }
   ],
   "source": [
    "ar44 = np.array([[1, 2, 3, 4], [5, 6, 7, 8]])\n",
    "\n",
    "for idx, x in np.ndenumerate(ar44):\n",
    "  print(idx, x)"
   ]
  },
  {
   "cell_type": "markdown",
   "id": "dc651681",
   "metadata": {},
   "source": [
    "#  <span style=\"color:blue\">JOIN EN NUMPY</span> "
   ]
  },
  {
   "cell_type": "markdown",
   "id": "ac15bc5c",
   "metadata": {},
   "source": [
    "**JOIN significa poner el contenido de dos o más matrices en una sola matriz.**\n",
    "\n",
    "**En SQL unimos tablas en base a una clave, mientras que en NumPy unimos matrices por ejes.**\n",
    "\n",
    "**Pasamos una secuencia de arreglos que queremos unir a la función concatenar(), junto con el eje. Si el eje no se pasa explícitamente, se toma como 0.**"
   ]
  },
  {
   "cell_type": "code",
   "execution_count": 5,
   "id": "47258da3",
   "metadata": {},
   "outputs": [
    {
     "name": "stdout",
     "output_type": "stream",
     "text": [
      "[1 2 3 4 5 6]\n"
     ]
    }
   ],
   "source": [
    "arr1 = np.array([1, 2, 3])\n",
    "\n",
    "arr2 = np.array([4, 5, 6])\n",
    "\n",
    "arr = np.concatenate((arr1, arr2))\n",
    "\n",
    "print(arr)"
   ]
  },
  {
   "cell_type": "code",
   "execution_count": 9,
   "id": "12ff0f56",
   "metadata": {
    "scrolled": true
   },
   "outputs": [
    {
     "name": "stdout",
     "output_type": "stream",
     "text": [
      "[[1 2 5 6]\n",
      " [3 4 7 8]]\n"
     ]
    }
   ],
   "source": [
    "arr1 = np.array([[1, 2], [3, 4]])\n",
    "\n",
    "arr2 = np.array([[5, 6], [7, 8]])\n",
    "\n",
    "arr = np.concatenate((arr1, arr2), axis=1)\n",
    "\n",
    "print(arr)"
   ]
  },
  {
   "cell_type": "code",
   "execution_count": 10,
   "id": "047348b7",
   "metadata": {},
   "outputs": [
    {
     "name": "stdout",
     "output_type": "stream",
     "text": [
      "[[1 2]\n",
      " [3 4]\n",
      " [5 6]\n",
      " [7 8]]\n"
     ]
    }
   ],
   "source": [
    "arrb = np.concatenate((arr1, arr2), axis=0)\n",
    "\n",
    "print(arrb)"
   ]
  },
  {
   "cell_type": "markdown",
   "id": "3a8bb4db",
   "metadata": {},
   "source": [
    "## STACK"
   ]
  },
  {
   "cell_type": "markdown",
   "id": "c2f898f2",
   "metadata": {},
   "source": [
    "El apilamiento es lo mismo que la concatenación, la única diferencia es que el apilamiento se realiza a lo largo de un nuevo eje.\n",
    "\n",
    "Podemos concatenar dos matrices 1-D a lo largo del segundo eje, lo que daría como resultado colocarlas una sobre la otra, es decir. apilado.\n",
    "\n",
    "Pasamos una secuencia de arreglos que queremos unir al método stack() junto con el eje. Si el eje no se pasa explícitamente, se toma como 0."
   ]
  },
  {
   "cell_type": "code",
   "execution_count": 57,
   "id": "85abbafe",
   "metadata": {},
   "outputs": [
    {
     "name": "stdout",
     "output_type": "stream",
     "text": [
      "[[[1 2]\n",
      "  [5 6]]\n",
      "\n",
      " [[3 4]\n",
      "  [7 8]]]\n"
     ]
    }
   ],
   "source": [
    "arr1 = np.array([[1, 2], [3, 4]])\n",
    "\n",
    "arr2 = np.array([[5, 6], [7, 8]])\n",
    "\n",
    "arr = np.stack((arr1, arr2), axis=1)\n",
    "\n",
    "print(arr)"
   ]
  },
  {
   "cell_type": "code",
   "execution_count": 58,
   "id": "ce0a1176",
   "metadata": {},
   "outputs": [
    {
     "name": "stdout",
     "output_type": "stream",
     "text": [
      "[[1 4]\n",
      " [2 5]\n",
      " [3 6]]\n"
     ]
    }
   ],
   "source": [
    "are = np.array([1, 2, 3])\n",
    "\n",
    "are2 = np.array([4, 5, 6])\n",
    "\n",
    "arre = np.stack((are, are2),axis=1)\n",
    "\n",
    "print(arre)"
   ]
  },
  {
   "cell_type": "markdown",
   "id": "217215e1",
   "metadata": {},
   "source": [
    "##  <span style=\"color:blue\">SORTING ARRAYS</span> "
   ]
  },
  {
   "cell_type": "markdown",
   "id": "ebf71b04",
   "metadata": {},
   "source": [
    "**Eje a lo largo del cual ordenar. Si es Ninguno, la matriz se aplana antes de ordenar. El valor predeterminado es -1, que ordena a lo largo del último eje.**"
   ]
  },
  {
   "cell_type": "code",
   "execution_count": 59,
   "id": "b59ae483",
   "metadata": {},
   "outputs": [
    {
     "name": "stdout",
     "output_type": "stream",
     "text": [
      "[16  8 20 17 20  9 18 20  7  7]\n",
      "\n",
      " [ 7  7  8  9 16 17 18 20 20 20]\n"
     ]
    }
   ],
   "source": [
    "#ordenar  numpy.sort(a, axis=-1, kind=None, order=None)\n",
    "\n",
    "sortarray=np.random.randint(2,21,size=(10))\n",
    "sortarray2=np.sort(sortarray)\n",
    "\n",
    "print(sortarray)\n",
    "print(\"\\n\",sortarray2)"
   ]
  },
  {
   "cell_type": "code",
   "execution_count": 60,
   "id": "a2021bd9",
   "metadata": {},
   "outputs": [
    {
     "name": "stdout",
     "output_type": "stream",
     "text": [
      "[[ 2  5]\n",
      " [ 5 16]\n",
      " [ 6  7]\n",
      " [18  7]\n",
      " [ 2 10]\n",
      " [ 9 12]\n",
      " [ 3  5]\n",
      " [ 2  9]\n",
      " [17 16]\n",
      " [17 19]]\n",
      "\n",
      " [[ 2  5]\n",
      " [ 2  5]\n",
      " [ 2  7]\n",
      " [ 3  7]\n",
      " [ 5  9]\n",
      " [ 6 10]\n",
      " [ 9 12]\n",
      " [17 16]\n",
      " [17 16]\n",
      " [18 19]]\n"
     ]
    }
   ],
   "source": [
    "#ordenar, al usar xis=0 me ordena todos los elementos mas alla que sean de filas diferentes, sino ordenaria \n",
    "#solo cada elemento por fila de manera indepte\n",
    "\n",
    "sortarray3=np.random.randint(2,21,size=(10,2))\n",
    "sortarray4=np.sort(sortarray3,axis=0)\n",
    "\n",
    "print(sortarray3)\n",
    "print(\"\\n\",sortarray4)"
   ]
  },
  {
   "cell_type": "code",
   "execution_count": 61,
   "id": "80c4533f",
   "metadata": {},
   "outputs": [
    {
     "name": "stdout",
     "output_type": "stream",
     "text": [
      "[[18  4]\n",
      " [15 15]\n",
      " [14  5]\n",
      " [20 13]\n",
      " [19 16]\n",
      " [18 17]\n",
      " [ 6 17]\n",
      " [ 9  2]\n",
      " [ 5  4]\n",
      " [10  9]]\n",
      "\n",
      " [[ 5  2]\n",
      " [ 6  4]\n",
      " [ 9  4]\n",
      " [10  5]\n",
      " [14  9]\n",
      " [15 13]\n",
      " [18 15]\n",
      " [18 16]\n",
      " [19 17]\n",
      " [20 17]]\n"
     ]
    }
   ],
   "source": [
    "#ordenar, al no usar axis=0 sino ordenaria solo cada elemento de cada fila de manera indepte\n",
    "\n",
    "sortarray5=np.random.randint(2,21,size=(10,2))\n",
    "sortarray6=np.sort(sortarray5,axis=0)\n",
    "\n",
    "print(sortarray5)\n",
    "print(\"\\n\",sortarray6)"
   ]
  },
  {
   "cell_type": "code",
   "execution_count": 62,
   "id": "bcc1b9bd",
   "metadata": {
    "scrolled": true
   },
   "outputs": [
    {
     "name": "stdout",
     "output_type": "stream",
     "text": [
      "[[17  9]\n",
      " [14  4]\n",
      " [17 11]\n",
      " [18 17]\n",
      " [18  7]\n",
      " [15  7]\n",
      " [18 12]\n",
      " [ 3 17]\n",
      " [ 4  7]\n",
      " [12 12]]\n",
      "\n",
      " [ 3  4  4  7  7  7  9 11 12 12 12 14 15 17 17 17 17 18 18 18]\n"
     ]
    }
   ],
   "source": [
    "#ordenar, al usar axis None aplana al arreglo\n",
    "sortarray7=np.random.randint(2,21,size=(10,2))\n",
    "sortarray8=np.sort(sortarray7,axis=None)\n",
    "\n",
    "print(sortarray7)\n",
    "print(\"\\n\",sortarray8)"
   ]
  },
  {
   "cell_type": "markdown",
   "id": "2ad67e79",
   "metadata": {},
   "source": [
    "## OPERACIONES MAT"
   ]
  },
  {
   "cell_type": "code",
   "execution_count": 63,
   "id": "9e3fa201",
   "metadata": {},
   "outputs": [
    {
     "name": "stdout",
     "output_type": "stream",
     "text": [
      "[2 4 6 8]\n",
      "\n",
      " [2 4 6 8]\n",
      "\n",
      " [11 12 13 14]\n",
      "\n",
      " [0.5 1.  1.5 2. ]\n"
     ]
    }
   ],
   "source": [
    "arraymat=np.array([1,2,3,4])\n",
    "arraymat2=np.array([1,2,3,4])\n",
    "print(arraymat+arraymat2)\n",
    "print(\"\\n\",arraymat*2)\n",
    "print(\"\\n\",arraymat+10)\n",
    "print(\"\\n\",arraymat/2)"
   ]
  },
  {
   "cell_type": "markdown",
   "id": "b85c554c",
   "metadata": {},
   "source": [
    "## COMPARACIONES"
   ]
  },
  {
   "cell_type": "code",
   "execution_count": 64,
   "id": "c4686453",
   "metadata": {},
   "outputs": [
    {
     "data": {
      "text/plain": [
       "array([ True, False, False, False])"
      ]
     },
     "execution_count": 64,
     "metadata": {},
     "output_type": "execute_result"
    }
   ],
   "source": [
    "arraymat<2"
   ]
  }
 ],
 "metadata": {
  "kernelspec": {
   "display_name": "Python 3 (ipykernel)",
   "language": "python",
   "name": "python3"
  },
  "language_info": {
   "codemirror_mode": {
    "name": "ipython",
    "version": 3
   },
   "file_extension": ".py",
   "mimetype": "text/x-python",
   "name": "python",
   "nbconvert_exporter": "python",
   "pygments_lexer": "ipython3",
   "version": "3.9.12"
  }
 },
 "nbformat": 4,
 "nbformat_minor": 5
}
