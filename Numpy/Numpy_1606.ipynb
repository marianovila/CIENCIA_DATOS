{
 "cells": [
  {
   "cell_type": "markdown",
   "id": "30105c12",
   "metadata": {},
   "source": [
    "# CLASE CIENCIA DE DATOS | 16-06 | NUMPY    \n",
    "<hr style=\"border: 0.5px solid black\">"
   ]
  },
  {
   "cell_type": "markdown",
   "id": "867a612b",
   "metadata": {},
   "source": [
    "## **IMPORTAMOS LAS LIBRERÍAS**"
   ]
  },
  {
   "cell_type": "code",
   "execution_count": 1,
   "id": "d1db9f46",
   "metadata": {},
   "outputs": [],
   "source": [
    "# Tratamiento de datos\n",
    "# ==============================================================================\n",
    "import pandas as pd\n",
    "import numpy as np\n",
    "\n",
    "#https://deepnote.com/@anthonymanotoa/Tutorial-de-NumPy-en-Espanol-180f7d51-b297-4aea-b61e-34ef867ca6fb"
   ]
  },
  {
   "cell_type": "markdown",
   "id": "68b7f2fb",
   "metadata": {},
   "source": [
    "##  <span style=\"color:blue\">TRABAJAR CON TXT</span> "
   ]
  },
  {
   "cell_type": "code",
   "execution_count": 2,
   "id": "768cb2b1",
   "metadata": {},
   "outputs": [
    {
     "name": "stdout",
     "output_type": "stream",
     "text": [
      "[[ 7  4  9  8  2]\n",
      " [ 1  1  3  7  1]\n",
      " [ 3  9  4  2  3]\n",
      " [ 2 10  1 10  8]]\n"
     ]
    }
   ],
   "source": [
    "#creamos un arreglo con aleatorios enteros de 1 al 10, se guarda en arreglo de 4x5\n",
    "a=np.random.randint(1,11,(4,5))\n",
    "print(a)"
   ]
  },
  {
   "cell_type": "code",
   "execution_count": 4,
   "id": "097f64de",
   "metadata": {},
   "outputs": [],
   "source": [
    "#numpy.savetxt(fname, X, fmt='%.18e', delimiter=' ', newline='\\n', header='', footer='', comments='# ', encoding=None)\n",
    "#[source]\n",
    "np.savetxt('datos_sala2.txt',a)"
   ]
  },
  {
   "cell_type": "code",
   "execution_count": 6,
   "id": "fcd5b176",
   "metadata": {},
   "outputs": [
    {
     "name": "stdout",
     "output_type": "stream",
     "text": [
      "[[ 7  4  9  8  2]\n",
      " [ 1  1  3  7  1]\n",
      " [ 3  9  4  2  3]\n",
      " [ 2 10  1 10  8]]\n"
     ]
    }
   ],
   "source": [
    "#numpy.loadtxt(fname, dtype=<class 'float'>, comments='#', delimiter=None, converters=None, skiprows=0, usecols=None, unpack=False, ndmin=0, encoding='bytes', max_rows=None, *, quotechar=None, like=None)[source]\n",
    "\n",
    "b=np.loadtxt('datos_sala2.txt',delimiter=' ',dtype='int')\n",
    "print(b)"
   ]
  },
  {
   "cell_type": "code",
   "execution_count": 8,
   "id": "977fd089",
   "metadata": {},
   "outputs": [
    {
     "name": "stdout",
     "output_type": "stream",
     "text": [
      "['juan' 'marcelo' 'juana' 'marcela']\n"
     ]
    }
   ],
   "source": [
    "#leer un txt\n",
    "nombres=np.loadtxt('nombres.txt',dtype=str)\n",
    "print(nombres)"
   ]
  },
  {
   "cell_type": "code",
   "execution_count": 9,
   "id": "54468d4c",
   "metadata": {},
   "outputs": [
    {
     "name": "stdout",
     "output_type": "stream",
     "text": [
      "[nan nan nan nan]\n"
     ]
    }
   ],
   "source": [
    "\n",
    "nombres2=np.genfromtxt('nombres.txt',delimiter=' ')\n",
    "print(nombres2)"
   ]
  },
  {
   "cell_type": "markdown",
   "id": "7d2b14fa",
   "metadata": {},
   "source": [
    "## EJERCICIO"
   ]
  },
  {
   "cell_type": "code",
   "execution_count": 32,
   "id": "ea88f8f2",
   "metadata": {},
   "outputs": [
    {
     "name": "stdout",
     "output_type": "stream",
     "text": [
      "lunes: 5°\n",
      "martes: 4°\n",
      "miércoles: 8°\n",
      "jueves: 3°\n",
      "viernes: 2°\n",
      "sábado: 1°\n",
      "domingo: 7°\n"
     ]
    }
   ],
   "source": [
    "#crear archivo de texto dias_semana que contenga los dias y leerlo\n",
    "# crear txt con min de la semana y leerlos y mostrarlas con el dia corresp. Por ej lunes 12° martes 4°\n",
    "\n",
    "# Crear un arreglo de temperaturas mínimas\n",
    "temperaturas = np.array([5, 4, 8, 3, 2, 1, 7])\n",
    "\n",
    "# Crear un arreglo de días correspondientes\n",
    "dias = np.array([\"lunes\", \"martes\", \"miércoles\", \"jueves\", \"viernes\", \"sábado\", \"domingo\"])\n",
    "\n",
    "# Guardar los datos en un archivo de texto\n",
    "np.savetxt(\"temperaturas.txt\", np.column_stack((dias, temperaturas)), fmt=\"%s\", delimiter=\" \")\n",
    "\n",
    "# Leer los datos del archivo de texto\n",
    "datos = np.genfromtxt(\"temperaturas.txt\", dtype=str)\n",
    "\n",
    "# Mostrar las temperaturas con los días correspondientes\n",
    "for dato in datos:\n",
    "    dia = dato[0]\n",
    "    temperatura = dato[1]\n",
    "    print(f\"{dia}: {temperatura}°\")"
   ]
  },
  {
   "cell_type": "code",
   "execution_count": 36,
   "id": "f4332a85",
   "metadata": {},
   "outputs": [
    {
     "name": "stdout",
     "output_type": "stream",
     "text": [
      "[[ 1  6]\n",
      " [ 2  7]\n",
      " [ 3  8]\n",
      " [ 4  9]\n",
      " [ 5 10]]\n"
     ]
    }
   ],
   "source": [
    "arr1=np.array([1,2,3,4,5])\n",
    "arr2=np.array([6,7,8,9,10])\n",
    "arr3=np.column_stack((arr1,arr2))\n",
    "print(arr3)"
   ]
  },
  {
   "cell_type": "markdown",
   "id": "dabcd8b9",
   "metadata": {},
   "source": [
    "## MATPLOTLIB"
   ]
  },
  {
   "cell_type": "code",
   "execution_count": 33,
   "id": "79d0d9e7",
   "metadata": {},
   "outputs": [],
   "source": [
    "import matplotlib.pyplot as plt"
   ]
  },
  {
   "cell_type": "code",
   "execution_count": 39,
   "id": "78c8c924",
   "metadata": {},
   "outputs": [
    {
     "data": {
      "image/png": "[encoded data removed]",
      "text/plain": [
       "<Figure size 640x480 with 1 Axes>"
      ]
     },
     "metadata": {},
     "output_type": "display_data"
    }
   ],
   "source": [
    "arr1=np.array([1,2,3,4,5])\n",
    "arr2=np.array([6,7,8,9,10])\n",
    "\n",
    "plt.plot(arr1,arr2)\n",
    "\n",
    "plt.xlabel('Eje X')\n",
    "plt.ylabel('Eje Y')\n",
    "plt.title('Gráfico')\n",
    "\n",
    "plt.show()"
   ]
  },
  {
   "cell_type": "code",
   "execution_count": null,
   "id": "6b79e0b2",
   "metadata": {},
   "outputs": [],
   "source": []
  },
  {
   "cell_type": "code",
   "execution_count": null,
   "id": "a8e764b2",
   "metadata": {},
   "outputs": [],
   "source": [
    "# Crear un histograma de la variable target\n",
    "plt.hist(y)\n",
    "\n",
    "target=np.unique(y)\n",
    "# Agregar etiquetas y títulos\n",
    "plt.xlabel('Valores únicos')\n",
    "plt.ylabel('Frecuencia')\n",
    "plt.title('Histograma de y')\n",
    "\n",
    "plt.xticks( target, rotation=0)   #inclinacion de las etiquetas de eje x\n",
    "#plt.ylim(0,500) #limite para el eje y.\n",
    "\n",
    "# Mostrar el histograma\n",
    "plt.show()"
   ]
  },
  {
   "cell_type": "markdown",
   "id": "b078b961",
   "metadata": {},
   "source": [
    "## EJERCICIO"
   ]
  },
  {
   "cell_type": "code",
   "execution_count": null,
   "id": "3b651634",
   "metadata": {},
   "outputs": [],
   "source": []
  },
  {
   "cell_type": "code",
   "execution_count": null,
   "id": "4e2b6963",
   "metadata": {},
   "outputs": [],
   "source": []
  }
 ],
 "metadata": {
  "kernelspec": {
   "display_name": "Python 3 (ipykernel)",
   "language": "python",
   "name": "python3"
  },
  "language_info": {
   "codemirror_mode": {
    "name": "ipython",
    "version": 3
   },
   "file_extension": ".py",
   "mimetype": "text/x-python",
   "name": "python",
   "nbconvert_exporter": "python",
   "pygments_lexer": "ipython3",
   "version": "3.9.12"
  }
 },
 "nbformat": 4,
 "nbformat_minor": 5
}
