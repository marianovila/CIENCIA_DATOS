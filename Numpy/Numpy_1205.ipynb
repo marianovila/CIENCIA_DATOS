{
 "cells": [
  {
   "cell_type": "markdown",
   "id": "30105c12",
   "metadata": {},
   "source": [
    "# CLASE CIENCIA DE DATOS | 12-05 | NUMPY"
   ]
  },
  {
   "cell_type": "markdown",
   "id": "867a612b",
   "metadata": {},
   "source": [
    "**IMPORTAMOS LAS LIBRERÍAS**"
   ]
  },
  {
   "cell_type": "code",
   "execution_count": 69,
   "id": "d1db9f46",
   "metadata": {},
   "outputs": [],
   "source": [
    "# Tratamiento de datos\n",
    "# ==============================================================================\n",
    "import pandas as pd\n",
    "import numpy as np"
   ]
  },
  {
   "cell_type": "markdown",
   "id": "8bf75cfb",
   "metadata": {},
   "source": [
    "# QUE ES UN ARRAY"
   ]
  },
  {
   "cell_type": "markdown",
   "id": "393ac6ae",
   "metadata": {},
   "source": [
    "* **El array (o ndarray) es la estructura que permite acelerar las operaciones matemáticas en Python, sin\n",
    "la necesidad de recurrir a bucles para operar con todos sus elementos, lo que se llama vectorización.**        \n",
    "\n",
    "\n",
    "* **Es una estructura multidimensional, por lo que permite representar vectores,     \n",
    "matrices o arreglos de más dimensiones.**"
   ]
  },
  {
   "cell_type": "code",
   "execution_count": 18,
   "id": "3a656d8c",
   "metadata": {},
   "outputs": [
    {
     "name": "stdout",
     "output_type": "stream",
     "text": [
      "Cantidad de filas y columnas: (5,). Dimensión: 1. Cantidad de elementos: 5. Tipo de datos: int32\n"
     ]
    }
   ],
   "source": [
    "#crear un array de 1 dimensión\n",
    "arr1=np.array([1,2,3,4,5])\n",
    "\n",
    "shape=arr1.shape #me devuelve filas/columnas\n",
    "ndim=arr1.ndim  #me devuelve la dimension\n",
    "size=arr1.size\n",
    "dtype=arr1.dtype\n",
    "print(f\"Cantidad de filas y columnas: {shape}. Dimensión: {ndim}. Cantidad de elementos: {size}. Tipo de datos: {dtype}\")"
   ]
  },
  {
   "cell_type": "code",
   "execution_count": 21,
   "id": "e78acbdb",
   "metadata": {},
   "outputs": [
    {
     "data": {
      "text/plain": [
       "array([1, 2, 3, 4, 5, 6, 7])"
      ]
     },
     "execution_count": 21,
     "metadata": {},
     "output_type": "execute_result"
    }
   ],
   "source": [
    "#crear un array de 1 lista \n",
    "lista=[1,2,3,4,5,6,7]\n",
    "arr2=np.array(lista)\n",
    "arr2"
   ]
  },
  {
   "cell_type": "code",
   "execution_count": 27,
   "id": "19604197",
   "metadata": {},
   "outputs": [
    {
     "name": "stdout",
     "output_type": "stream",
     "text": [
      "Cantidad de filas y col (2, 3) Dimensión: 2  Cantidad de elementos:  6 Tipo de datos:  int32\n"
     ]
    }
   ],
   "source": [
    "#crear un array de 2 dim\n",
    "arr3=np.array([[1,2,3],[4,5,6]])\n",
    "arr3.ndim\n",
    "print(\"Cantidad de filas y col\",arr3.shape,\"Dimensión:\",arr3.ndim,\" Cantidad de elementos: \",arr3.size,\"Tipo de datos: \",arr3.dtype)"
   ]
  },
  {
   "cell_type": "code",
   "execution_count": 32,
   "id": "7661e05c",
   "metadata": {},
   "outputs": [
    {
     "data": {
      "text/plain": [
       "array([[1, 2, 3],\n",
       "       [4, 5, 6]])"
      ]
     },
     "execution_count": 32,
     "metadata": {},
     "output_type": "execute_result"
    }
   ],
   "source": [
    "arr3"
   ]
  },
  {
   "cell_type": "code",
   "execution_count": 34,
   "id": "b2267fc6",
   "metadata": {},
   "outputs": [
    {
     "name": "stdout",
     "output_type": "stream",
     "text": [
      "Cantidad de filas y col (2, 2, 3) Dimensión: 3  Cantidad de elementos:  12 Tipo de datos:  int32\n"
     ]
    }
   ],
   "source": [
    "arr4=np.array([arr3, arr3])\n",
    "print(\"Cantidad de filas y col\",arr4.shape,\"Dimensión:\",arr4.ndim,\" Cantidad de elementos: \",arr4.size,\"Tipo de datos: \",arr4.dtype)"
   ]
  },
  {
   "cell_type": "markdown",
   "id": "6ccc4e4e",
   "metadata": {},
   "source": [
    "## Ejercicio matriz de 3 filas y 5 columnas num de 1 al 15"
   ]
  },
  {
   "cell_type": "code",
   "execution_count": 48,
   "id": "a04c97b3",
   "metadata": {},
   "outputs": [],
   "source": [
    "arr5=np.arange(1,16)\n",
    "arr6=arr5.reshape(3,5)\n",
    "#arr5=np.arange(1,16).reshape(3,5)"
   ]
  },
  {
   "cell_type": "markdown",
   "id": "79232d1c",
   "metadata": {},
   "source": [
    "## **RANGO DE VALORES - ARANGE**"
   ]
  },
  {
   "cell_type": "code",
   "execution_count": 70,
   "id": "69538a98",
   "metadata": {},
   "outputs": [
    {
     "data": {
      "text/plain": [
       "array([ 1,  3,  5,  7,  9, 11, 13, 15])"
      ]
     },
     "execution_count": 70,
     "metadata": {},
     "output_type": "execute_result"
    }
   ],
   "source": [
    "a=np.arange(1,16,2)\n",
    "a\n",
    "#si agrego 3er paso le indico cada cuanto aumenta"
   ]
  },
  {
   "cell_type": "code",
   "execution_count": 73,
   "id": "3514b8fa",
   "metadata": {},
   "outputs": [
    {
     "data": {
      "text/plain": [
       "array([ 0, 25, 50, 75])"
      ]
     },
     "execution_count": 73,
     "metadata": {},
     "output_type": "execute_result"
    }
   ],
   "source": [
    "b=np.arange(0,100,25)\n",
    "b"
   ]
  },
  {
   "cell_type": "markdown",
   "id": "e67676a1",
   "metadata": {},
   "source": [
    "## **INDEXING**"
   ]
  },
  {
   "cell_type": "code",
   "execution_count": 61,
   "id": "c40dc295",
   "metadata": {},
   "outputs": [
    {
     "data": {
      "text/plain": [
       "7"
      ]
     },
     "execution_count": 61,
     "metadata": {},
     "output_type": "execute_result"
    }
   ],
   "source": [
    "a[3]"
   ]
  },
  {
   "cell_type": "code",
   "execution_count": 63,
   "id": "678f8572",
   "metadata": {},
   "outputs": [
    {
     "data": {
      "text/plain": [
       "array([[ 1,  2,  3,  4,  5],\n",
       "       [ 6,  7,  8,  9, 10],\n",
       "       [11, 12, 13, 14, 15]])"
      ]
     },
     "execution_count": 63,
     "metadata": {},
     "output_type": "execute_result"
    }
   ],
   "source": [
    "array=np.arange(1,16).reshape(3,5)\n",
    "array"
   ]
  },
  {
   "cell_type": "code",
   "execution_count": 66,
   "id": "72512bff",
   "metadata": {},
   "outputs": [
    {
     "data": {
      "text/plain": [
       "array([[ 1,  2],\n",
       "       [ 6,  7],\n",
       "       [11, 12]])"
      ]
     },
     "execution_count": 66,
     "metadata": {},
     "output_type": "execute_result"
    }
   ],
   "source": [
    "array[:,:2]\n",
    "#filtro todas la filas y columnas de la cero a la 1"
   ]
  },
  {
   "cell_type": "code",
   "execution_count": 67,
   "id": "994ef66b",
   "metadata": {},
   "outputs": [
    {
     "data": {
      "text/plain": [
       "array([11, 12, 13, 14, 15])"
      ]
     },
     "execution_count": 67,
     "metadata": {},
     "output_type": "execute_result"
    }
   ],
   "source": [
    "array[2,:]\n",
    "#filtro ultima fila completa"
   ]
  },
  {
   "cell_type": "markdown",
   "id": "e46a53c8",
   "metadata": {},
   "source": [
    "## **FILTRAR CON CONDICIONES**"
   ]
  },
  {
   "cell_type": "code",
   "execution_count": 59,
   "id": "e33e9115",
   "metadata": {},
   "outputs": [
    {
     "data": {
      "text/plain": [
       "array([11, 13, 15])"
      ]
     },
     "execution_count": 59,
     "metadata": {},
     "output_type": "execute_result"
    }
   ],
   "source": [
    "a[a>10]"
   ]
  }
 ],
 "metadata": {
  "kernelspec": {
   "display_name": "Python 3 (ipykernel)",
   "language": "python",
   "name": "python3"
  },
  "language_info": {
   "codemirror_mode": {
    "name": "ipython",
    "version": 3
   },
   "file_extension": ".py",
   "mimetype": "text/x-python",
   "name": "python",
   "nbconvert_exporter": "python",
   "pygments_lexer": "ipython3",
   "version": "3.9.12"
  }
 },
 "nbformat": 4,
 "nbformat_minor": 5
}
