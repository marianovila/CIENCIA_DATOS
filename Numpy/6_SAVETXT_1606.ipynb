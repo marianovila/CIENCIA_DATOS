{
 "cells": [
  {
   "cell_type": "markdown",
   "id": "30105c12",
   "metadata": {},
   "source": [
    "# CLASE CIENCIA DE DATOS | 16-06 | NUMPY    \n",
    "<hr style=\"border: 0.5px solid black\">"
   ]
  },
  {
   "cell_type": "code",
   "execution_count": 1,
   "id": "d1db9f46",
   "metadata": {},
   "outputs": [],
   "source": [
    "# Tratamiento de datos\n",
    "# ==============================================================================\n",
    "import pandas as pd\n",
    "import numpy as np"
   ]
  },
  {
   "cell_type": "markdown",
   "id": "bafe47f2",
   "metadata": {},
   "source": [
    "## TEMAS VARIOS\n",
    "* TRABAJAR CON TXT\n",
    "* EJERCICIO\n",
    "* MATPLOTLIB"
   ]
  },
  {
   "cell_type": "markdown",
   "id": "68b7f2fb",
   "metadata": {},
   "source": [
    "##  <span style=\"color:blue\">TRABAJAR CON TXT</span> "
   ]
  },
  {
   "cell_type": "code",
   "execution_count": 2,
   "id": "768cb2b1",
   "metadata": {},
   "outputs": [
    {
     "name": "stdout",
     "output_type": "stream",
     "text": [
      "[[ 6  9  9  5  3]\n",
      " [ 4  3  2  9 10]\n",
      " [ 6 10 10  4  6]\n",
      " [ 2  4  4  6  6]]\n"
     ]
    }
   ],
   "source": [
    "#creamos un arreglo con aleatorios enteros de 1 al 10, se guarda en arreglo de 4x5\n",
    "a=np.random.randint(1,11,(4,5))\n",
    "print(a)"
   ]
  },
  {
   "cell_type": "code",
   "execution_count": 3,
   "id": "097f64de",
   "metadata": {},
   "outputs": [],
   "source": [
    "#numpy.savetxt(fname, X, fmt='%.18e', delimiter=' ', newline='\\n', header='', footer='', comments='# ', encoding=None)\n",
    "#[source]\n",
    "np.savetxt('datos_sala2.txt',a)"
   ]
  },
  {
   "cell_type": "code",
   "execution_count": 6,
   "id": "fcd5b176",
   "metadata": {},
   "outputs": [
    {
     "name": "stdout",
     "output_type": "stream",
     "text": [
      "[[ 7  4  9  8  2]\n",
      " [ 1  1  3  7  1]\n",
      " [ 3  9  4  2  3]\n",
      " [ 2 10  1 10  8]]\n"
     ]
    }
   ],
   "source": [
    "#numpy.loadtxt(fname, dtype=<class 'float'>, comments='#', delimiter=None, converters=None, skiprows=0, usecols=None, unpack=False, ndmin=0, encoding='bytes', max_rows=None, *, quotechar=None, like=None)[source]\n",
    "\n",
    "b=np.loadtxt('datos_sala2.txt',delimiter=' ',dtype='int')\n",
    "print(b)"
   ]
  },
  {
   "cell_type": "code",
   "execution_count": 4,
   "id": "977fd089",
   "metadata": {},
   "outputs": [
    {
     "name": "stdout",
     "output_type": "stream",
     "text": [
      "['juan' 'marcelo' 'juana' 'marcela']\n"
     ]
    }
   ],
   "source": [
    "#leer un txt\n",
    "nombres=np.loadtxt('nombres.txt',dtype=str)\n",
    "print(nombres)"
   ]
  },
  {
   "cell_type": "code",
   "execution_count": 10,
   "id": "54468d4c",
   "metadata": {},
   "outputs": [
    {
     "name": "stdout",
     "output_type": "stream",
     "text": [
      "['juan' 'marcelo' 'juana' 'marcela']\n",
      "<U7\n"
     ]
    }
   ],
   "source": [
    "#genfromtxt ( fname , dtype=<class 'float'> , comments='#' , delimiter=Ninguno , skip_header=0 , skip_footer=0 , convertidores=Ninguno , valores_faltantes=Ninguno , valores_de_relleno=Ninguno , usecols=Ninguno , nombres=Ninguno , includelist=Ninguno , deletechars=\" !#$%&'()*+ , -./:;<=>?@[\\\\]^{|}~\" , replace_space='_' , autostrip=False , mayúsculas y minúsculas=Verdadero ,, desempaquetar=Ninguno , usemask=False , loose=True , invalid_raise=True , max_rows=Ninguno , codificación='bytes' , * , ndmin=0 , like=Ninguno )[fuente]\n",
    "\n",
    "nombres2=np.genfromtxt('nombres.txt',dtype='str',delimiter=' ')\n",
    "print(nombres2)\n",
    "print(nombres2.dtype)"
   ]
  },
  {
   "cell_type": "code",
   "execution_count": 21,
   "id": "e1c4eb94",
   "metadata": {},
   "outputs": [
    {
     "name": "stdout",
     "output_type": "stream",
     "text": [
      "[[42.88830504 54.46817186 51.86746179]\n",
      " [51.01592606 55.09114256 40.62008719]\n",
      " [48.60856694 52.0317953  55.7269691 ]]\n",
      "[[42.88830504 54.46817186 51.86746179]\n",
      " [51.01592606 55.09114256 40.62008719]\n",
      " [48.60856694 52.0317953  55.7269691 ]]\n"
     ]
    }
   ],
   "source": [
    "#EXPORTAND TXT CON FLOAT Y SEPARADOR POR COMAS, LUEGO LEERLO\n",
    "\n",
    "nuevoarr=np.random.uniform(40,60,size=9).reshape(3,3)\n",
    "print(nuevoarr)\n",
    "np.savetxt('datos_uniform.txt',nuevoarr,delimiter=',')\n",
    "arrunif=np.loadtxt('datos_uniform.txt',delimiter=',',dtype=float)\n",
    "print(arrunif)\n"
   ]
  },
  {
   "cell_type": "code",
   "execution_count": 22,
   "id": "782104b3",
   "metadata": {},
   "outputs": [
    {
     "name": "stdout",
     "output_type": "stream",
     "text": [
      "[[1 4]\n",
      " [2 5]\n",
      " [3 6]]\n"
     ]
    }
   ],
   "source": [
    "#COLUMN STACK\n",
    "# Arreglos de ejemplo\n",
    "arreglo1 = np.array([1, 2, 3])\n",
    "arreglo2 = np.array([4, 5, 6])\n",
    "\n",
    "# Utilizar np.column_stack para combinar los arreglos\n",
    "resultado = np.column_stack((arreglo1, arreglo2))\n",
    "\n",
    "print(resultado)"
   ]
  },
  {
   "cell_type": "markdown",
   "id": "7d2b14fa",
   "metadata": {},
   "source": [
    "## EJERCICIO"
   ]
  },
  {
   "cell_type": "code",
   "execution_count": 32,
   "id": "ea88f8f2",
   "metadata": {},
   "outputs": [
    {
     "name": "stdout",
     "output_type": "stream",
     "text": [
      "lunes: 5°\n",
      "martes: 4°\n",
      "miércoles: 8°\n",
      "jueves: 3°\n",
      "viernes: 2°\n",
      "sábado: 1°\n",
      "domingo: 7°\n"
     ]
    }
   ],
   "source": [
    "#crear archivo de texto dias_semana que contenga los dias y leerlo\n",
    "# crear txt con min de la semana y leerlos y mostrarlas con el dia corresp. Por ej lunes 12° martes 4°\n",
    "\n",
    "# Crear un arreglo de temperaturas mínimas\n",
    "temperaturas = np.array([5, 4, 8, 3, 2, 1, 7])\n",
    "\n",
    "# Crear un arreglo de días correspondientes\n",
    "dias = np.array([\"lunes\", \"martes\", \"miércoles\", \"jueves\", \"viernes\", \"sábado\", \"domingo\"])\n",
    "\n",
    "# Guardar los datos en un archivo de texto\n",
    "#\"%s\", que indica que los datos son cadenas de texto.\"%d\" para enteros o \"%f\" para float.\n",
    "np.savetxt(\"temperaturas.txt\", np.column_stack((dias, temperaturas)), fmt=\"%s\", delimiter=\" \")\n",
    "\n",
    "# Leer los datos del archivo de texto\n",
    "datos = np.genfromtxt(\"temperaturas.txt\", dtype=str)\n",
    "\n",
    "# Mostrar las temperaturas con los días correspondientes\n",
    "for dato in datos:\n",
    "    dia = dato[0]\n",
    "    temperatura = dato[1]\n",
    "    print(f\"{dia}: {temperatura}°\")"
   ]
  },
  {
   "cell_type": "code",
   "execution_count": 36,
   "id": "f4332a85",
   "metadata": {},
   "outputs": [
    {
     "name": "stdout",
     "output_type": "stream",
     "text": [
      "[[ 1  6]\n",
      " [ 2  7]\n",
      " [ 3  8]\n",
      " [ 4  9]\n",
      " [ 5 10]]\n"
     ]
    }
   ],
   "source": [
    "arr1=np.array([1,2,3,4,5])\n",
    "arr2=np.array([6,7,8,9,10])\n",
    "arr3=np.column_stack((arr1,arr2))\n",
    "print(arr3)"
   ]
  }
 ],
 "metadata": {
  "kernelspec": {
   "display_name": "Python 3 (ipykernel)",
   "language": "python",
   "name": "python3"
  },
  "language_info": {
   "codemirror_mode": {
    "name": "ipython",
    "version": 3
   },
   "file_extension": ".py",
   "mimetype": "text/x-python",
   "name": "python",
   "nbconvert_exporter": "python",
   "pygments_lexer": "ipython3",
   "version": "3.9.12"
  }
 },
 "nbformat": 4,
 "nbformat_minor": 5
}
