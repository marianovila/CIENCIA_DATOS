{
 "cells": [
  {
   "cell_type": "markdown",
   "id": "30105c12",
   "metadata": {},
   "source": [
    "# CLASE CIENCIA DE DATOS | 09-06 | NUMPY    \n",
    "<hr style=\"border: 0.5px solid black\">"
   ]
  },
  {
   "cell_type": "markdown",
   "id": "867a612b",
   "metadata": {},
   "source": [
    "## **IMPORTAMOS LAS LIBRERÍAS**"
   ]
  },
  {
   "cell_type": "code",
   "execution_count": 3,
   "id": "d1db9f46",
   "metadata": {},
   "outputs": [],
   "source": [
    "# Tratamiento de datos\n",
    "# ==============================================================================\n",
    "import pandas as pd\n",
    "import numpy as np\n",
    "\n",
    "#https://deepnote.com/@anthonymanotoa/Tutorial-de-NumPy-en-Espanol-180f7d51-b297-4aea-b61e-34ef867ca6fb"
   ]
  },
  {
   "cell_type": "code",
   "execution_count": 4,
   "id": "014a88b9",
   "metadata": {},
   "outputs": [
    {
     "name": "stdout",
     "output_type": "stream",
     "text": [
      "[47 90 28 66 57 65 38 68 32 48  0 18 86 27 32 45 26  3 78  4  7 54 68 92\n",
      " 74]\n",
      "46.12\n"
     ]
    }
   ],
   "source": [
    "\n",
    "a = np.random.randint(0,100,size=25)\n",
    "print(a)\n",
    "print(np.mean(a))\n"
   ]
  },
  {
   "cell_type": "code",
   "execution_count": 5,
   "id": "ce7673f3",
   "metadata": {
    "scrolled": true
   },
   "outputs": [
    {
     "name": "stdout",
     "output_type": "stream",
     "text": [
      "[[56.   78.   97.   45.   68.  ]\n",
      " [ 1.8   1.55  1.75  1.67  1.81]]\n"
     ]
    }
   ],
   "source": [
    "\n",
    "peso=np.array([56,78,97,45,68])\n",
    "altura=np.array([1.80,1.55,1.75,1.67,1.81])\n",
    "\n",
    "print(np.stack((peso,altura),axis=0))"
   ]
  },
  {
   "cell_type": "markdown",
   "id": "40f09d14",
   "metadata": {},
   "source": [
    "## SPLIT"
   ]
  },
  {
   "cell_type": "code",
   "execution_count": 6,
   "id": "4fe70478",
   "metadata": {},
   "outputs": [
    {
     "name": "stdout",
     "output_type": "stream",
     "text": [
      "[array([1, 2]), array([3, 4]), array([5, 6])]\n"
     ]
    }
   ],
   "source": [
    "#split\n",
    "\n",
    "arr1=np.array([1,2,3,4,5,6])\n",
    "newarr=np.array_split(arr1,3)\n",
    "#se genera lista de 3 elementos\n",
    "print(newarr)"
   ]
  },
  {
   "cell_type": "markdown",
   "id": "1dc3b9a7",
   "metadata": {},
   "source": [
    "## EJERCICIO CON STACK\n",
    "Ejercicio crear tres arreglos con aleatorios para los meses de ener (22,42) feb (20,37) marzo(18,30) (7 valores primera semana de cada mes) \n",
    "unirlos en uno solo de 3 filas"
   ]
  },
  {
   "cell_type": "code",
   "execution_count": 7,
   "id": "1312a57d",
   "metadata": {},
   "outputs": [
    {
     "name": "stdout",
     "output_type": "stream",
     "text": [
      "[41 40 27 38 37 23 34]\n",
      "\n",
      " [24 36 32 28 30 22 32]\n",
      "\n",
      " [29 23 18 24 27 21 25]\n",
      "\n",
      "Max Enero: 41 Min Enero 23\n",
      "Max Feb: 36 Min Feb 22\n",
      "Max Mar: 29 Min Mar 18\n",
      "\n",
      " [[41 40 27 38 37 23 34]\n",
      " [24 36 32 28 30 22 32]\n",
      " [29 23 18 24 27 21 25]]\n"
     ]
    }
   ],
   "source": [
    "\n",
    "enero=np.random.randint(22,42,size=7)\n",
    "febrero=np.random.randint(20,37,size=7)\n",
    "marzo=np.random.randint(18,30, size=7)\n",
    "\n",
    "arrstack=np.vstack((enero,febrero,marzo))\n",
    "arrstack\n",
    "\n",
    "print(enero)\n",
    "print(\"\\n\",febrero)\n",
    "print(\"\\n\",marzo)\n",
    "\n",
    "print(\"\\nMax Enero:\",np.max(arrstack[0]),\"Min Enero\",np.min(arrstack[0]))\n",
    "print(\"Max Feb:\",np.max(arrstack[1]),\"Min Feb\",np.min(arrstack[1]))\n",
    "print(\"Max Mar:\",np.max(arrstack[2]),\"Min Mar\",np.min(arrstack[2]))\n",
    "print(\"\\n\",arrstack)"
   ]
  },
  {
   "cell_type": "markdown",
   "id": "10d047d9",
   "metadata": {},
   "source": [
    "## EJERCICIO CON CONCATENATE Y SPLIT\n",
    "Ejercicio inflacion: Crear dos arreglos denominados primer_sem y segundo_sem. Ambos contienen datos de la inflación mensual del 2022.Utilizar los datos del indec. Luego unirlos en un solo arreglo denominado \"anual\". Tomar el arreglo creado y dividirlo en trimestres, y mostrar los datos de inflación del primer y el último trimestre"
   ]
  },
  {
   "cell_type": "code",
   "execution_count": 8,
   "id": "9a30e64c",
   "metadata": {},
   "outputs": [
    {
     "name": "stdout",
     "output_type": "stream",
     "text": [
      "Anual:  [3.9 4.7 6.7 6.  5.1 5.3 7.4 7.  6.2 6.3 4.9 5.1]\n",
      "\n",
      "Trimestre:  [array([3.9, 4.7, 6.7]), array([6. , 5.1, 5.3]), array([7.4, 7. , 6.2]), array([6.3, 4.9, 5.1])]\n",
      "\n",
      "Inf Primer trimestre:  [3.9 4.7 6.7]\n",
      "\n",
      "Inf tercer trimestre:  [6.3 4.9 5.1]\n"
     ]
    }
   ],
   "source": [
    "\n",
    "primer_sem=np.array([3.9,4.7,6.7,6.0,5.1,5.3])\n",
    "segundo_sem=np.array([7.4,7.0,6.2,6.3,4.9,5.1])\n",
    "anual=np.concatenate((primer_sem,segundo_sem))\n",
    "trimestre=np.array_split(anual,4)\n",
    "\n",
    "print(\"Anual: \",anual)\n",
    "print(\"\\nTrimestre: \",trimestre)\n",
    "print(\"\\nInf Primer trimestre: \",trimestre[0])\n",
    "print(\"\\nInf tercer trimestre: \",trimestre[3])"
   ]
  },
  {
   "cell_type": "code",
   "execution_count": 9,
   "id": "48c4eb8c",
   "metadata": {},
   "outputs": [
    {
     "data": {
      "text/plain": [
       "[array([3.9, 4.7, 6.7, 6. ]),\n",
       " array([5.1, 5.3, 7.4, 7. ]),\n",
       " array([6.2, 6.3, 4.9, 5.1])]"
      ]
     },
     "execution_count": 9,
     "metadata": {},
     "output_type": "execute_result"
    }
   ],
   "source": [
    "trimestre2=np.array_split(anual,3)\n",
    "trimestre2"
   ]
  }
 ],
 "metadata": {
  "kernelspec": {
   "display_name": "Python 3 (ipykernel)",
   "language": "python",
   "name": "python3"
  },
  "language_info": {
   "codemirror_mode": {
    "name": "ipython",
    "version": 3
   },
   "file_extension": ".py",
   "mimetype": "text/x-python",
   "name": "python",
   "nbconvert_exporter": "python",
   "pygments_lexer": "ipython3",
   "version": "3.9.12"
  }
 },
 "nbformat": 4,
 "nbformat_minor": 5
}
