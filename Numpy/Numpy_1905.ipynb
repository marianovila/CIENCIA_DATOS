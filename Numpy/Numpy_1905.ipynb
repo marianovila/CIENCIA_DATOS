{
 "cells": [
  {
   "cell_type": "markdown",
   "id": "30105c12",
   "metadata": {},
   "source": [
    "# CLASE CIENCIA DE DATOS | 12-05 | NUMPY"
   ]
  },
  {
   "cell_type": "markdown",
   "id": "867a612b",
   "metadata": {},
   "source": [
    "**IMPORTAMOS LAS LIBRERÍAS**"
   ]
  },
  {
   "cell_type": "code",
   "execution_count": 1,
   "id": "d1db9f46",
   "metadata": {},
   "outputs": [],
   "source": [
    "# Tratamiento de datos\n",
    "# ==============================================================================\n",
    "import pandas as pd\n",
    "import numpy as np"
   ]
  },
  {
   "cell_type": "markdown",
   "id": "8bf75cfb",
   "metadata": {},
   "source": [
    "# QUE ES UN ARRAY"
   ]
  },
  {
   "cell_type": "markdown",
   "id": "393ac6ae",
   "metadata": {},
   "source": [
    "* **El array (o ndarray) es la estructura que permite acelerar las operaciones matemáticas en Python, sin\n",
    "la necesidad de recurrir a bucles para operar con todos sus elementos, lo que se llama vectorización.**        \n",
    "\n",
    "\n",
    "* **Es una estructura multidimensional, por lo que permite representar vectores,     \n",
    "matrices o arreglos de más dimensiones.**"
   ]
  },
  {
   "cell_type": "code",
   "execution_count": 2,
   "id": "3a656d8c",
   "metadata": {},
   "outputs": [
    {
     "name": "stdout",
     "output_type": "stream",
     "text": [
      "Cantidad de filas y columnas: (5,). Dimensión: 1. Cantidad de elementos: 5. Tipo de datos: int32\n"
     ]
    }
   ],
   "source": [
    "#crear un array de 1 dimensión\n",
    "arr1=np.array([1,2,3,4,5])\n",
    "\n",
    "shape=arr1.shape #me devuelve filas/columnas\n",
    "ndim=arr1.ndim  #me devuelve la dimension\n",
    "size=arr1.size\n",
    "dtype=arr1.dtype\n",
    "print(f\"Cantidad de filas y columnas: {shape}. Dimensión: {ndim}. Cantidad de elementos: {size}. Tipo de datos: {dtype}\")"
   ]
  },
  {
   "cell_type": "code",
   "execution_count": 3,
   "id": "e78acbdb",
   "metadata": {},
   "outputs": [
    {
     "data": {
      "text/plain": [
       "array([1, 2, 3, 4, 5, 6, 7])"
      ]
     },
     "execution_count": 3,
     "metadata": {},
     "output_type": "execute_result"
    }
   ],
   "source": [
    "#crear un array de 1 lista \n",
    "lista=[1,2,3,4,5,6,7]\n",
    "arr2=np.array(lista)\n",
    "arr2"
   ]
  },
  {
   "cell_type": "code",
   "execution_count": 4,
   "id": "19604197",
   "metadata": {},
   "outputs": [
    {
     "name": "stdout",
     "output_type": "stream",
     "text": [
      "Cantidad de filas y col (2, 3) Dimensión: 2  Cantidad de elementos:  6 Tipo de datos:  int32\n"
     ]
    }
   ],
   "source": [
    "#crear un array de 2 dim\n",
    "arr3=np.array([[1,2,3],[4,5,6]])\n",
    "arr3.ndim\n",
    "print(\"Cantidad de filas y col\",arr3.shape,\"Dimensión:\",arr3.ndim,\" Cantidad de elementos: \",arr3.size,\"Tipo de datos: \",arr3.dtype)"
   ]
  },
  {
   "cell_type": "code",
   "execution_count": 5,
   "id": "929c754f",
   "metadata": {},
   "outputs": [
    {
     "name": "stdout",
     "output_type": "stream",
     "text": [
      "[[1 2 3]\n",
      " [4 5 6]]\n"
     ]
    }
   ],
   "source": [
    "#crear arreglo de dos dimensiones\n",
    "matrix=np.array([[1,2,3],[4,5,6]])\n",
    "print(matrix)"
   ]
  },
  {
   "cell_type": "code",
   "execution_count": 6,
   "id": "7661e05c",
   "metadata": {},
   "outputs": [
    {
     "name": "stdout",
     "output_type": "stream",
     "text": [
      "[[[1 2 3]\n",
      "  [4 5 6]]\n",
      "\n",
      " [[1 2 3]\n",
      "  [4 5 6]]]\n"
     ]
    }
   ],
   "source": [
    "arreglo3=np.array([matrix, matrix])\n",
    "print(arreglo3)"
   ]
  },
  {
   "cell_type": "markdown",
   "id": "79232d1c",
   "metadata": {},
   "source": [
    "## **RANGO DE VALORES - ARANGE**"
   ]
  },
  {
   "cell_type": "code",
   "execution_count": 7,
   "id": "69538a98",
   "metadata": {},
   "outputs": [
    {
     "data": {
      "text/plain": [
       "array([ 1,  3,  5,  7,  9, 11, 13, 15])"
      ]
     },
     "execution_count": 7,
     "metadata": {},
     "output_type": "execute_result"
    }
   ],
   "source": [
    "a=np.arange(1,16,2)\n",
    "a\n",
    "#si agrego 3er paso le indico cada cuanto aumenta"
   ]
  },
  {
   "cell_type": "code",
   "execution_count": 8,
   "id": "3514b8fa",
   "metadata": {},
   "outputs": [
    {
     "data": {
      "text/plain": [
       "array([ 0, 25, 50, 75])"
      ]
     },
     "execution_count": 8,
     "metadata": {},
     "output_type": "execute_result"
    }
   ],
   "source": [
    "b=np.arange(0,100,25)\n",
    "b"
   ]
  },
  {
   "cell_type": "markdown",
   "id": "8d7cfbe5",
   "metadata": {},
   "source": [
    "## Numeros aleatorios con NumPy"
   ]
  },
  {
   "cell_type": "code",
   "execution_count": 9,
   "id": "a0386003",
   "metadata": {},
   "outputs": [
    {
     "name": "stdout",
     "output_type": "stream",
     "text": [
      "[48 53  9  4 49 73 67 79 20 74 96 74 97 51 79 44 90 40  8 59 82 45  8 94\n",
      " 76]\n"
     ]
    }
   ],
   "source": [
    "# generar arreglo con nros enteros valor inicial,valor final, tamaño\n",
    "x = np.random.randint(0,100,size=25)\n",
    "print(x)\n"
   ]
  },
  {
   "cell_type": "code",
   "execution_count": 10,
   "id": "c40e3efd",
   "metadata": {
    "scrolled": true
   },
   "outputs": [
    {
     "name": "stdout",
     "output_type": "stream",
     "text": [
      "[9.71803747e-01 5.96977519e-01 8.79529299e-02 9.19382480e-01\n",
      " 5.59267325e-01 2.00911058e-01 4.03802910e-01 1.59151504e-01\n",
      " 2.68779952e-01 4.35494120e-01 9.65566047e-01 1.87115295e-02\n",
      " 3.22347712e-01 9.00876896e-01 1.64867973e-01 2.41741139e-01\n",
      " 4.42511681e-01 8.84896372e-01 7.97654710e-01 3.36802743e-02\n",
      " 2.90448404e-01 9.66833781e-01 5.54353049e-01 7.19071579e-01\n",
      " 2.65379281e-01 1.95266613e-01 2.57917964e-01 6.08573816e-01\n",
      " 3.03960800e-01 1.80986354e-01 5.18422123e-01 3.94792259e-01\n",
      " 2.97954098e-01 7.15451810e-01 4.59967401e-01 2.90374314e-04\n",
      " 9.47903080e-01 6.74118886e-01 3.78396145e-01 4.95815557e-01\n",
      " 3.52560581e-01 8.96194767e-02 9.22421439e-01 5.00809241e-01\n",
      " 6.66695806e-01 9.67967800e-01 6.83058768e-01 4.55958043e-01\n",
      " 5.08070899e-01 6.47980426e-01 5.67429602e-01 8.74215593e-01\n",
      " 2.17513793e-01 5.51122848e-01 9.60671171e-01 2.01468202e-01\n",
      " 3.68508484e-01 5.07396543e-01 4.71280607e-01 3.82876767e-01\n",
      " 7.43205877e-02 8.69250980e-01 4.75988603e-02 6.08361922e-01\n",
      " 9.31764161e-01 1.66899895e-01 4.43888078e-01 1.65611377e-01\n",
      " 2.04404425e-01 8.86999171e-01 5.16299563e-01 4.61254149e-01\n",
      " 8.97978595e-01 7.92679451e-01 8.71965279e-01 3.95408992e-02\n",
      " 7.81333626e-01 6.72132620e-01 4.40517551e-01 8.14053649e-01\n",
      " 5.62727046e-01 2.72120049e-01 2.88267860e-01 7.11522250e-01\n",
      " 9.31991503e-01 2.28996737e-01 3.11617953e-01 9.98531395e-01\n",
      " 6.28875551e-01 7.83427771e-01 5.06674105e-01 6.45172128e-01\n",
      " 5.04643018e-01 6.78853806e-01 1.50457462e-01 2.55215020e-01\n",
      " 7.09233746e-01 1.39909159e-01 9.50695153e-01 7.67948809e-01]\n"
     ]
    }
   ],
   "source": [
    "#nros aleatorios entre 0 y 1\n",
    "b=np.random.rand(100)\n",
    "print(b)"
   ]
  },
  {
   "cell_type": "code",
   "execution_count": 11,
   "id": "b2267fc6",
   "metadata": {},
   "outputs": [
    {
     "name": "stdout",
     "output_type": "stream",
     "text": [
      "Cantidad de filas y col (2, 2, 3) Dimensión: 3  Cantidad de elementos:  12 Tipo de datos:  int32\n"
     ]
    }
   ],
   "source": [
    "arr4=np.array([arr3, arr3])\n",
    "print(\"Cantidad de filas y col\",arr4.shape,\"Dimensión:\",arr4.ndim,\" Cantidad de elementos: \",arr4.size,\"Tipo de datos: \",arr4.dtype)"
   ]
  },
  {
   "cell_type": "code",
   "execution_count": 12,
   "id": "1afc8303",
   "metadata": {},
   "outputs": [
    {
     "name": "stdout",
     "output_type": "stream",
     "text": [
      "[15.         15.83333333 16.66666667 17.5        18.33333333 19.16666667\n",
      " 20.        ]\n"
     ]
    }
   ],
   "source": [
    "#Crear un arreglo con valores uniformemente espaciados\n",
    "arreglo=np.linspace(15, 20, 7)\n",
    "print(arreglo)"
   ]
  },
  {
   "cell_type": "code",
   "execution_count": 13,
   "id": "871d32d4",
   "metadata": {},
   "outputs": [
    {
     "name": "stdout",
     "output_type": "stream",
     "text": [
      "[6 6 6 6 6 6 6 6 6 6]\n"
     ]
    }
   ],
   "source": [
    "#creando un arreglo con un mismo numero\n",
    "arreglo=np.full(10,6)\n",
    "print(arreglo)"
   ]
  },
  {
   "cell_type": "code",
   "execution_count": 14,
   "id": "d050e832",
   "metadata": {},
   "outputs": [
    {
     "name": "stdout",
     "output_type": "stream",
     "text": [
      "[15.         15.83333333 16.66666667 17.5        18.33333333 19.16666667\n",
      " 20.        ]\n"
     ]
    }
   ],
   "source": [
    "arreglo=np.linspace(15, 20, 7)\n",
    "print(arreglo)"
   ]
  },
  {
   "cell_type": "code",
   "execution_count": 15,
   "id": "a49d627f",
   "metadata": {},
   "outputs": [
    {
     "name": "stdout",
     "output_type": "stream",
     "text": [
      "[[0. 0. 0. 0. 0.]\n",
      " [0. 0. 0. 0. 0.]\n",
      " [0. 0. 0. 0. 0.]]\n"
     ]
    }
   ],
   "source": [
    "# creando un arreglo con 0\n",
    "arreglo=np.zeros((3,5))\n",
    "print(arreglo)"
   ]
  },
  {
   "cell_type": "code",
   "execution_count": 16,
   "id": "bf42dd55",
   "metadata": {},
   "outputs": [
    {
     "data": {
      "text/plain": [
       "array([1.5316511 , 1.87610794, 1.89010349, 1.96908589, 1.87937634,\n",
       "       1.92773289, 1.86494268, 1.87003752, 1.73742862, 1.89824738,\n",
       "       1.76457907, 1.75209419, 1.82700823, 1.74927722, 1.85288105,\n",
       "       1.50417725, 1.85857215, 1.81115413, 1.88515258, 1.78660437,\n",
       "       1.69868805, 1.71004979, 1.9737779 , 1.92525113, 1.74914381,\n",
       "       1.9103642 , 1.99174525, 1.75461518, 1.60764304, 1.64076474,\n",
       "       1.5502405 , 1.58621961, 1.60796053, 1.9537332 , 1.55222765,\n",
       "       1.76203332, 1.83189058, 1.61599596, 1.8058235 , 1.78407367,\n",
       "       1.56903065, 1.8721075 , 1.91049267, 1.89621162, 1.54903045,\n",
       "       1.98624161, 1.53940492, 1.88829032, 1.92085194, 1.60932657])"
      ]
     },
     "execution_count": 16,
     "metadata": {},
     "output_type": "execute_result"
    }
   ],
   "source": [
    "#uniform permite indicar el rango, a diferencia de rand q solo va de 0 a 1\n",
    "np.random.uniform(1.5, 2.0, size=50)"
   ]
  },
  {
   "cell_type": "markdown",
   "id": "ba9e6cc3",
   "metadata": {},
   "source": [
    "## EJERCICIO. Crear un matrix de 4 filas y 5 columnas , lleno completamente del mismo valor 5."
   ]
  },
  {
   "cell_type": "code",
   "execution_count": 17,
   "id": "e64c5ac6",
   "metadata": {},
   "outputs": [
    {
     "data": {
      "text/plain": [
       "array([[5, 5, 5, 5, 5],\n",
       "       [5, 5, 5, 5, 5],\n",
       "       [5, 5, 5, 5, 5],\n",
       "       [5, 5, 5, 5, 5]])"
      ]
     },
     "execution_count": 17,
     "metadata": {},
     "output_type": "execute_result"
    }
   ],
   "source": [
    "arreglo45=np.full(20,5).reshape(4,5)\n",
    "arreglo45"
   ]
  },
  {
   "cell_type": "markdown",
   "id": "86627598",
   "metadata": {},
   "source": [
    "## EJERCICIO. ARREGLO MATRIZ 5 fila y 3 col , valores aleatorios entre 5 y 6"
   ]
  },
  {
   "cell_type": "code",
   "execution_count": 18,
   "id": "32c8cefd",
   "metadata": {},
   "outputs": [
    {
     "data": {
      "text/plain": [
       "array([[6, 6, 5],\n",
       "       [5, 6, 5],\n",
       "       [5, 6, 5],\n",
       "       [6, 5, 5],\n",
       "       [6, 5, 5]])"
      ]
     },
     "execution_count": 18,
     "metadata": {},
     "output_type": "execute_result"
    }
   ],
   "source": [
    "ejercicio= np.random.randint(5,7,size=(5,3))\n",
    "ejercicio\n"
   ]
  },
  {
   "cell_type": "code",
   "execution_count": 19,
   "id": "7b11105d",
   "metadata": {
    "scrolled": true
   },
   "outputs": [
    {
     "data": {
      "text/plain": [
       "array([[0.50553484, 0.847839  , 0.43401405, 0.58109524, 0.82865207,\n",
       "        0.9911381 ],\n",
       "       [0.61943966, 0.90706752, 0.21568205, 0.27295826, 0.24028302,\n",
       "        0.76666803],\n",
       "       [0.65491113, 0.65991007, 0.8427653 , 0.40679062, 0.53730716,\n",
       "        0.01759307],\n",
       "       [0.75129052, 0.08818674, 0.05537198, 0.00880988, 0.79354499,\n",
       "        0.2902458 ],\n",
       "       [0.60604408, 0.85990268, 0.6395433 , 0.14351444, 0.49538089,\n",
       "        0.10629671]])"
      ]
     },
     "execution_count": 19,
     "metadata": {},
     "output_type": "execute_result"
    }
   ],
   "source": [
    "np.random.rand(5,6)"
   ]
  },
  {
   "cell_type": "markdown",
   "id": "5cd3de44",
   "metadata": {},
   "source": [
    "## EJERCICIO:     \n",
    "**Crear un arreglo denominado altura de tamaño 50. Debe de generar aleatoriamente las alturas entre 1.5m y 2m.\n",
    "Crear un arreglo denominado peso de tamaño 50. Debe de generar aleatoriamente los pesos entre 50kg y 100kg.\n",
    "Calcular el índice de masa corporal en un tercer arreglo.**"
   ]
  },
  {
   "cell_type": "code",
   "execution_count": 20,
   "id": "c7cb4fdb",
   "metadata": {},
   "outputs": [
    {
     "data": {
      "text/plain": [
       "array([22.47586758, 41.39055972, 17.02700432, 33.99851297, 32.2838192 ,\n",
       "       39.50065541, 18.93245363, 22.10077574, 30.23945729, 27.87413182,\n",
       "       13.50848028, 22.20599924, 39.30627393, 15.74617687, 33.2130066 ,\n",
       "       30.44649599, 18.03875102, 26.41656618, 17.21026273, 16.39114513,\n",
       "       26.2049907 , 18.86408481, 23.89591762, 28.77989582, 19.51901464,\n",
       "       32.42480041, 16.4906873 , 18.48210596, 35.96776046, 15.84088166,\n",
       "       20.76021989, 20.99547544, 20.67088422, 31.14055215, 41.04608681,\n",
       "       14.44512053, 30.20534232, 27.72470016, 14.63501357, 18.10345713,\n",
       "       22.82128855, 32.00156416, 30.61843012, 26.89629722, 30.49016092,\n",
       "       31.76835124, 19.46546561, 23.28005592, 16.23475038, 17.46503859])"
      ]
     },
     "execution_count": 20,
     "metadata": {},
     "output_type": "execute_result"
    }
   ],
   "source": [
    "altura = np.random.uniform(1.5, 2.0, size=50)\n",
    "\n",
    "peso = np.random.uniform(50, 100, size=50)\n",
    "\n",
    "imc = peso / (altura**2) \n",
    "imc"
   ]
  },
  {
   "cell_type": "code",
   "execution_count": null,
   "id": "b6c96910",
   "metadata": {},
   "outputs": [],
   "source": []
  },
  {
   "cell_type": "code",
   "execution_count": null,
   "id": "a27ad7cb",
   "metadata": {},
   "outputs": [],
   "source": []
  },
  {
   "cell_type": "code",
   "execution_count": null,
   "id": "7bf61f08",
   "metadata": {},
   "outputs": [],
   "source": []
  },
  {
   "cell_type": "markdown",
   "id": "6ccc4e4e",
   "metadata": {},
   "source": [
    "## Ejercicio matriz de 3 filas y 5 columnas num de 1 al 15"
   ]
  },
  {
   "cell_type": "code",
   "execution_count": 21,
   "id": "a04c97b3",
   "metadata": {},
   "outputs": [],
   "source": [
    "arr5=np.arange(1,16)\n",
    "arr6=arr5.reshape(3,5)\n",
    "#arr5=np.arange(1,16).reshape(3,5)"
   ]
  },
  {
   "cell_type": "markdown",
   "id": "e67676a1",
   "metadata": {},
   "source": [
    "## **INDEXING**"
   ]
  },
  {
   "cell_type": "code",
   "execution_count": 22,
   "id": "c40dc295",
   "metadata": {},
   "outputs": [
    {
     "data": {
      "text/plain": [
       "7"
      ]
     },
     "execution_count": 22,
     "metadata": {},
     "output_type": "execute_result"
    }
   ],
   "source": [
    "a[3]"
   ]
  },
  {
   "cell_type": "code",
   "execution_count": 23,
   "id": "678f8572",
   "metadata": {},
   "outputs": [
    {
     "data": {
      "text/plain": [
       "array([[ 1,  2,  3,  4,  5],\n",
       "       [ 6,  7,  8,  9, 10],\n",
       "       [11, 12, 13, 14, 15]])"
      ]
     },
     "execution_count": 23,
     "metadata": {},
     "output_type": "execute_result"
    }
   ],
   "source": [
    "array=np.arange(1,16).reshape(3,5)\n",
    "array"
   ]
  },
  {
   "cell_type": "code",
   "execution_count": 24,
   "id": "72512bff",
   "metadata": {},
   "outputs": [
    {
     "data": {
      "text/plain": [
       "array([[ 1,  2],\n",
       "       [ 6,  7],\n",
       "       [11, 12]])"
      ]
     },
     "execution_count": 24,
     "metadata": {},
     "output_type": "execute_result"
    }
   ],
   "source": [
    "array[:,:2]\n",
    "#filtro todas la filas y columnas de la cero a la 1"
   ]
  },
  {
   "cell_type": "code",
   "execution_count": 25,
   "id": "994ef66b",
   "metadata": {},
   "outputs": [
    {
     "data": {
      "text/plain": [
       "array([11, 12, 13, 14, 15])"
      ]
     },
     "execution_count": 25,
     "metadata": {},
     "output_type": "execute_result"
    }
   ],
   "source": [
    "array[2,:]\n",
    "#filtro ultima fila completa"
   ]
  },
  {
   "cell_type": "markdown",
   "id": "e46a53c8",
   "metadata": {},
   "source": [
    "## **FILTRAR CON CONDICIONES**"
   ]
  },
  {
   "cell_type": "code",
   "execution_count": 26,
   "id": "e33e9115",
   "metadata": {
    "scrolled": true
   },
   "outputs": [
    {
     "data": {
      "text/plain": [
       "array([11, 13, 15])"
      ]
     },
     "execution_count": 26,
     "metadata": {},
     "output_type": "execute_result"
    }
   ],
   "source": [
    "a[a>10]"
   ]
  },
  {
   "cell_type": "code",
   "execution_count": null,
   "id": "a85f7853",
   "metadata": {},
   "outputs": [],
   "source": []
  },
  {
   "cell_type": "markdown",
   "id": "a7a5a969",
   "metadata": {},
   "source": [
    "## Operaciones"
   ]
  },
  {
   "cell_type": "code",
   "execution_count": 27,
   "id": "ed8a7d03",
   "metadata": {},
   "outputs": [
    {
     "name": "stdout",
     "output_type": "stream",
     "text": [
      "[  1   8  27  64 125]\n"
     ]
    }
   ],
   "source": [
    "a=np.array([1,2,3,4,5])\n",
    "\n",
    "b=a**3\n",
    "\n",
    "print(b)"
   ]
  },
  {
   "cell_type": "code",
   "execution_count": 28,
   "id": "6a50a80e",
   "metadata": {},
   "outputs": [
    {
     "name": "stdout",
     "output_type": "stream",
     "text": [
      "[ 7  9 11 13 15]\n"
     ]
    }
   ],
   "source": [
    "#podemos operar vectorialmente, siempre que sean de las mismos tamaños\n",
    "c=np.array([6,7,8,9,10])\n",
    "\n",
    "d=a+c\n",
    "\n",
    "print(d)"
   ]
  }
 ],
 "metadata": {
  "kernelspec": {
   "display_name": "Python 3 (ipykernel)",
   "language": "python",
   "name": "python3"
  },
  "language_info": {
   "codemirror_mode": {
    "name": "ipython",
    "version": 3
   },
   "file_extension": ".py",
   "mimetype": "text/x-python",
   "name": "python",
   "nbconvert_exporter": "python",
   "pygments_lexer": "ipython3",
   "version": "3.9.12"
  }
 },
 "nbformat": 4,
 "nbformat_minor": 5
}
